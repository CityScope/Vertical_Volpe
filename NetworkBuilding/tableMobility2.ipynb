{
 "cells": [
  {
   "cell_type": "code",
   "execution_count": 2,
   "metadata": {},
   "outputs": [],
   "source": [
    "import geopandas as gpd\n",
    "from shapely.geometry import Point, Polygon\n",
    "import pandas as pd\n",
    "import numpy as np\n",
    "import math\n",
    "import ray\n",
    "import time\n",
    "start_time = time.time()"
   ]
  },
  {
   "cell_type": "code",
   "execution_count": 3,
   "metadata": {},
   "outputs": [],
   "source": [
    "geom=gpd.read_file('geometry/220527-VOLPE Clean12.dxf')"
   ]
  },
  {
   "cell_type": "code",
   "execution_count": 4,
   "metadata": {},
   "outputs": [],
   "source": [
    "# HELPER FUNCTION TO ADD POINTS TO THE NODES TABLE\n",
    "def coordinates_to_nodes(coordinates,id,typeOfEntity=None,entityHandle=None):\n",
    "    dataframe = pd.DataFrame({\n",
    "        'id':[str(id)],\n",
    "        'x':[float(coordinates[0])],\n",
    "        'y':[float(coordinates[1])],\n",
    "        'z':[float(coordinates[2])],\n",
    "        'type_of_entity':[str(typeOfEntity)],\n",
    "        'EntityHandle':[str(entityHandle)]\n",
    "        })\n",
    "    return dataframe"
   ]
  },
  {
   "cell_type": "code",
   "execution_count": 5,
   "metadata": {},
   "outputs": [],
   "source": [
    "# HELPER FUNCTION TO ADD EDGES TO THE LINKS TABLE\n",
    "def create_edge(id_prev_p,id_curr_p,id,distance):\n",
    "    dataframe = pd.DataFrame({\n",
    "        'id':[str(id)],\n",
    "        'from':[str(id_prev_p)],\n",
    "        'to':[str(id_curr_p)],\n",
    "        'distance':[float(distance)]\n",
    "    })\n",
    "    return dataframe"
   ]
  },
  {
   "cell_type": "code",
   "execution_count": 6,
   "metadata": {},
   "outputs": [],
   "source": [
    "# CHECK IF A POINT IS ALREADY IN A DATAFRAME AND RETURN THE POINT IN THE DATAFRAME IF TRUE \n",
    "def check_point(coordinates,original_data_frame):\n",
    "    for node in original_data_frame.values:\n",
    "        x_range = [node[1]-0.001,node[1]+0.001]\n",
    "        y_range = [node[2]-0.001,node[2]+0.001]\n",
    "        z_range = [node[3]-0.001,node[3]+0.001]\n",
    "        x_condition = coordinates[0]<x_range[0] or coordinates[0]>x_range[1]\n",
    "        y_condition = coordinates[1]<y_range[0] or coordinates[1]>y_range[1]\n",
    "        z_condition = coordinates[2]<z_range[0] or coordinates[2]>z_range[1]\n",
    "        green_light = x_condition or y_condition or z_condition\n",
    "        if green_light == False:\n",
    "            return node,True\n",
    "    return None, False\n"
   ]
  },
  {
   "cell_type": "code",
   "execution_count": 7,
   "metadata": {},
   "outputs": [],
   "source": [
    "# CHECK IF A POINT IS ALREADY IN ONE OF THE POLYGONS OF A DATAFRAME AND RETURN THE POINT IN THE DATAFRAME IF TRUE \n",
    "def check_point_polygons(coordinates,geom_polygons):\n",
    "    for index_p, element_p in enumerate(geom_polygons['geometry']):\n",
    "        if (Point(coordinates).within(element_p)):\n",
    "            return True,index_p\n",
    "    return False,None"
   ]
  },
  {
   "cell_type": "code",
   "execution_count": 8,
   "metadata": {},
   "outputs": [],
   "source": [
    "# GET DISTANCE BETWEEN A PAIR OF COORDINATES\n",
    "def get_distance(coords_from,coords_to):\n",
    "    distance = math.sqrt((coords_from[0] - coords_to[0])**2 + (coords_from[1] - coords_to[1])**2 + (coords_from[2] - coords_to[2])**2)\n",
    "    distance = distance\n",
    "    return distance"
   ]
  },
  {
   "cell_type": "code",
   "execution_count": 9,
   "metadata": {},
   "outputs": [],
   "source": [
    "# FUNCTION TO ADD NODES AND EDGES PER FLOOR\n",
    "def parse_story(geom_story,story):\n",
    "    id_story = str(story) # The story id will be used to create a unique identifier per node\n",
    "    print(\"Story being evaluated: {}\".format(story))\n",
    "    if len(geom_story['geometry'])<1: \n",
    "        print(\"Story number {} has no geometry\".format(story)) # This could be an error with the heights when putting the different stories in the list\n",
    "        return None, None\n",
    "    # CREATE GEOMETRIES FOR LAND USES, ALLEYS AND PATHS, USING THE DEFINED SETS\n",
    "    geom_landUses_complete = geom_story[geom_story['Layer'].apply(lambda x : x in set_landUses)]\n",
    "    geom_landUses = geom_landUses_complete[geom_landUses_complete['geometry'].apply(lambda x : len(x.coords)>2)]\n",
    "    geom_alleys = geom_story[geom_story['Layer'].apply(lambda x : x in set_alleys)]\n",
    "    geom_paths = geom[geom['Layer'].apply(lambda x: x in set_paths)]\n",
    "    # CHANGE LINETRINGS FOR POLYGONS IN LANDUSES, NECESSARY TO CHECK IF THERE ARE POINTS INSIDE THOSE POLYGONS AND GET ENTRANCES, ETC.\n",
    "    geom_landUses['geometry'] =  geom_landUses['geometry'].apply(lambda x: Polygon(x.coords) if len(x.coords)>2 else x)\n",
    "    geom_vertical_mobility = geom_landUses[geom_landUses['Layer'].apply(lambda x : x in set_vertical_mobility)]\n",
    "    # GET POINTS FOR PATHS IN THE CURRENT STORY\n",
    "    if(len(geom_paths)<1): print(\"Causing error, no paths in geometry \") # If there are not paths in the geometry, floors will be disconnected\n",
    "    points_geom_paths_story = [z for x in geom_paths['geometry'] for z in x.coords if int(round(z[2],0))==(story*13)]\n",
    "    if(len(points_geom_paths_story)<1): print(\"Causing error, no paths for story {}\".format(story)) # If there are not paths in the current story, it will be disconnected\n",
    "    not_contained_paths = [] # List used to identify those paths not falling in any mobility polygon (e.g. elevator, stair)\n",
    "    nodes_df = pd.DataFrame({\n",
    "    'id':[],\n",
    "    'x':[],\n",
    "    'y':[],\n",
    "    'z':[],\n",
    "    'type_of_entity':[],\n",
    "    'EntityHandle':[]\n",
    "    })\n",
    "    edges_df = pd.DataFrame({\n",
    "        'id':[],\n",
    "        'from':[],\n",
    "        'to':[],\n",
    "        'distance':[]\n",
    "    })\n",
    "    # ADD ALLEYS TO THE LIST\n",
    "    for index in np.arange(len(geom_alleys)):\n",
    "        element_to_evaluate = geom_alleys['geometry'].iloc[index].coords # We get the coordinates of those points composing that alley\n",
    "        for index_e,point_e in enumerate(element_to_evaluate):\n",
    "            # EVERY NODE OF THE ELEMENT IS CHECKED TO BE IN THE NODES_DF LIST\n",
    "            node, node_in_list = check_point(point_e,nodes_df)\n",
    "            #ADD NODE TO THE NODES_DF LIST IF NOT YET CONTAINED\n",
    "            if not node_in_list: \n",
    "                id_curr_p =  id_story + 'P' + str(len(nodes_df)) # The 'P' is added to make sure that identifiers are unique when adding different stories\n",
    "                # NODES ARE CHECKED TO BE IN ANY OF THE POLYGONS\n",
    "                contained_in_p,index_p = check_point_polygons(point_e,geom_landUses) # If it is inside a polygon, it will be an entrance\n",
    "                entity_handler_container = None\n",
    "                if(contained_in_p):\n",
    "                    entity_handler_container = geom_landUses['EntityHandle'].iloc[index_p]\n",
    "                    nodes_df = pd.concat([nodes_df,coordinates_to_nodes(point_e,id_curr_p,typeOfEntity='Entrance',entityHandle=entity_handler_container)], ignore_index = True)\n",
    "                else:\n",
    "                    nodes_df = pd.concat([nodes_df,coordinates_to_nodes(point_e,id_curr_p,typeOfEntity='Alley',entityHandle=entity_handler_container)], ignore_index = True)\n",
    "            #IF NODE IS ALREADY CONTAINED, TAKE ITS ID\n",
    "            else: id_curr_p = node[0]\n",
    "            #FOR EVERY LINE COMPOSING THE ALLEY, CREATE A LINK.\n",
    "            if index_e > 0: # Links will start to be created from the second point of the alley on\n",
    "                point_from = nodes_df.loc[nodes_df['id']==str(id_prev_p)]\n",
    "                coords_from = [point_from['x'].values[0],point_from['y'].values[0],point_from['z'].values[0]]\n",
    "                if(point_e == None) or (coords_from==None): print(\"PRONE TO ERROR\")\n",
    "                distance = get_distance(coords_from,point_e)\n",
    "                edges_df = pd.concat([edges_df,create_edge(id_prev_p,id_curr_p,id_story+ 'P' + str(len(edges_df)),distance)], ignore_index = True)\n",
    "            #SAVE THE INDEX TO CREATE THE LINK WITH THE NEXT POINT OF THE ALLEY\n",
    "            id_prev_p = id_curr_p\n",
    "    # ADD VIRTUAL NODES FOR POLYGONS AND CONNECT TO ENTRANCES\n",
    "    for index in np.arange(len(geom_landUses)):\n",
    "        centroid_coordinates=[]\n",
    "        centroid_coordinates.extend(geom_landUses['geometry'].iloc[index].centroid.coords[0])\n",
    "        centroid_coordinates.append(geom_landUses['geometry'].iloc[index].exterior.coords[0][2])\n",
    "        id_curr_p =  id_story + 'P' + str(len(nodes_df)) # The 'P' is added to make sure that identifiers are unique when adding different stories\n",
    "        entityHandle = geom_landUses['EntityHandle'].iloc[index]\n",
    "        nodes_df = pd.concat([nodes_df,coordinates_to_nodes(centroid_coordinates,id_curr_p,typeOfEntity=geom_landUses['Layer'].iloc[index],entityHandle=entityHandle)], ignore_index = True)\n",
    "        #GET ENTRANCES FOR THAT ENTITY AND CREATE LINKS FROM VIRTUAL NODES TO ENTRANCES\n",
    "        entrances = [node[0] for node in nodes_df.values if node[5]==entityHandle and node[4]=='Entrance']\n",
    "        if(len(entrances)<1): \n",
    "            entityNoEntrance = nodes_df[nodes_df['EntityHandle']==entityHandle]\n",
    "            print(\"No entrances for: {} \".format(entityNoEntrance)) # An entity without entrance will be disconnected\n",
    "        for id in entrances:\n",
    "            edges_df = pd.concat([edges_df,create_edge(id,id_curr_p,id_story + 'P' + str(len(edges_df)),0)], ignore_index = True) # The 'P' is added to make sure that identifiers are unique when adding different stories\n",
    "    # ADD PATHS TO THE LIST\n",
    "    for index,coords in enumerate(points_geom_paths_story):\n",
    "        contained_in_p,index_p = check_point_polygons(coords,geom_vertical_mobility)\n",
    "        entity_handler_container = None\n",
    "        id_curr_p =  id_story + 'P' + str(len(nodes_df)) # The 'P' is added to make sure that identifiers are unique when adding different stories\n",
    "        if(contained_in_p):\n",
    "            entity_handler_container = geom_vertical_mobility['EntityHandle'].iloc[index_p]\n",
    "            #GET ID OF VIRTUAL NODE CORRESPONDING TO THAT ENTITY\n",
    "            id_entity_list = [node[0] for node in nodes_df.values if node[5]==entity_handler_container and node[4] in set_vertical_mobility]\n",
    "            id_entity = id_entity_list[0]\n",
    "            if(id_entity==None): print(\"id_entity not found for: {}\".format(entity_handler_container)) # If the node falls into a polygon, there should be a virtual node for that polygon\n",
    "            edges_df = pd.concat([edges_df,create_edge(id_curr_p,id_entity,id_story + 'P' + str(len(edges_df)),0)], ignore_index = True)\n",
    "            nodes_df = pd.concat([nodes_df,coordinates_to_nodes(coords,id_curr_p,typeOfEntity='path',entityHandle=entity_handler_container)], ignore_index = True)\n",
    "        else:\n",
    "            not_contained_paths.append(coords)\n",
    "    if(len(not_contained_paths)>1): print(\"Non contained paths for story {} are: {}\".format(story,not_contained_paths)) # This means there are paths not contained in polygons for a certain story, which should not happen \n",
    "    return nodes_df,edges_df"
   ]
  },
  {
   "cell_type": "code",
   "execution_count": 10,
   "metadata": {},
   "outputs": [],
   "source": [
    "# CREATE NEEDED SETS\n",
    "set_alleys = {'ALLEY-ELEVATOR','ALLEY1'}\n",
    "set_paths = {'STAIRS-PATH','ELEVATORS-PATH'} # Vertical links among floors\n",
    "set_vertical_mobility = {'STAIRS', 'ELEVATORS'}\n",
    "set_landUses = {'STAIRS', 'ELEVATORS','PARKS','OFFICES','BANKS','LIBRARY','HEALTH_CARE','LAUNDRY','RESTAURANT','CAFE','BAR','SCHOOL','CONVENIENCE_STORE','GROCERY_OR_SUPERMARKET','HOME_GOODS_STORE',\n",
    "'FURNITURE_STORE','PHARMACY','PROFESSIONAL_SERVICES','LEISURE_AND_WELLNESS','FAMILY_OCCUPANCY','DUAL__OCCUPANCY','TRIPLE_OCCUPANCY',\n",
    "'QUAD_OCCUPANCY','SINGLE_OCCUPANCY'}"
   ]
  },
  {
   "cell_type": "code",
   "execution_count": 11,
   "metadata": {},
   "outputs": [],
   "source": [
    "#GET LIST OF GEOMETRIES PER FLOOR\n",
    "list_geoms = [] # List that will contain the geometries of each floor\n",
    "nbr_stories = 52 # Number of stories that will be covered by nodes\n",
    "heigh_per_story = 13 # Separation between stories (same unity as in CAD)\n",
    "for z in np.arange(nbr_stories):\n",
    "    geom_story = geom[geom['geometry'].apply(lambda x : round(x.coords[0][2],0) == z*heigh_per_story)]\n",
    "    list_geoms.append(geom_story)"
   ]
  },
  {
   "cell_type": "code",
   "execution_count": 12,
   "metadata": {},
   "outputs": [],
   "source": [
    "#WE FIRST SHUTDOWN THE PARALLELIZATION MODULE TO MAKE SURE IT IS NOT TAKING COMPUTING RESOURCES ALREADY\n",
    "ray.shutdown()"
   ]
  },
  {
   "cell_type": "code",
   "execution_count": 13,
   "metadata": {},
   "outputs": [],
   "source": [
    "# Ray task is created for parallelization among parsing floors\n",
    "remote_parse_story = ray.remote(parse_story)"
   ]
  },
  {
   "cell_type": "code",
   "execution_count": 14,
   "metadata": {},
   "outputs": [
    {
     "name": "stdout",
     "output_type": "stream",
     "text": [
      " pid=18808)\u001b[0m Story being evaluated: 2\n",
      " pid=8016)\u001b[0m Story being evaluated: 8\n",
      " pid=372)\u001b[0m Story being evaluated: 3\n",
      " pid=4584)\u001b[0m Story being evaluated: 4\n",
      " pid=8596)\u001b[0m Story being evaluated: 12\n",
      " pid=17496)\u001b[0m Story being evaluated: 6\n",
      " pid=9160)\u001b[0m Story being evaluated: 10\n",
      " pid=18620)\u001b[0m Story being evaluated: 1\n",
      " pid=13144)\u001b[0m Story being evaluated: 11\n",
      " pid=15712)\u001b[0m Story being evaluated: 9\n",
      " pid=5712)\u001b[0m Story being evaluated: 14\n",
      " pid=8828)\u001b[0m Story being evaluated: 7\n",
      " pid=17772)\u001b[0m Story being evaluated: 5\n",
      " pid=18600)\u001b[0m Story being evaluated: 0\n",
      " pid=16736)\u001b[0m Story being evaluated: 15\n",
      " pid=15512)\u001b[0m Story being evaluated: 13\n"
     ]
    },
    {
     "name": "stderr",
     "output_type": "stream",
     "text": [
      " pid=8016)\u001b[0m c:\\Users\\adminlocal\\anaconda3\\envs\\verticalCity\\lib\\site-packages\\geopandas\\geodataframe.py:1322: SettingWithCopyWarning: \n",
      " pid=8016)\u001b[0m A value is trying to be set on a copy of a slice from a DataFrame.\n",
      " pid=8016)\u001b[0m Try using .loc[row_indexer,col_indexer] = value instead\n",
      " pid=8016)\u001b[0m _story\n",
      " pid=8016)\u001b[0m See the caveats in the documentation: https://pandas.pydata.org/pandas-docs/stable/user_guide/indexing.html#returning-a-view-versus-a-copy\n",
      " pid=8016)\u001b[0m   super(GeoDataFrame, self).__setitem__(key, value)\n",
      " pid=18808)\u001b[0m c:\\Users\\adminlocal\\anaconda3\\envs\\verticalCity\\lib\\site-packages\\geopandas\\geodataframe.py:1322: SettingWithCopyWarning: \n",
      " pid=18808)\u001b[0m A value is trying to be set on a copy of a slice from a DataFrame.\n",
      " pid=18808)\u001b[0m Try using .loc[row_indexer,col_indexer] = value instead\n",
      " pid=18808)\u001b[0m story\n",
      " pid=18808)\u001b[0m See the caveats in the documentation: https://pandas.pydata.org/pandas-docs/stable/user_guide/indexing.html#returning-a-view-versus-a-copy\n",
      " pid=18808)\u001b[0m   super(GeoDataFrame, self).__setitem__(key, value)\n",
      " pid=372)\u001b[0m c:\\Users\\adminlocal\\anaconda3\\envs\\verticalCity\\lib\\site-packages\\geopandas\\geodataframe.py:1322: SettingWithCopyWarning: \n",
      " pid=372)\u001b[0m A value is trying to be set on a copy of a slice from a DataFrame.\n",
      " pid=372)\u001b[0m Try using .loc[row_indexer,col_indexer] = value instead\n",
      " pid=372)\u001b[0m e_story\n",
      " pid=372)\u001b[0m See the caveats in the documentation: https://pandas.pydata.org/pandas-docs/stable/user_guide/indexing.html#returning-a-view-versus-a-copy\n",
      " pid=372)\u001b[0m   super(GeoDataFrame, self).__setitem__(key, value)\n",
      " pid=4584)\u001b[0m c:\\Users\\adminlocal\\anaconda3\\envs\\verticalCity\\lib\\site-packages\\geopandas\\geodataframe.py:1322: SettingWithCopyWarning: \n",
      " pid=4584)\u001b[0m A value is trying to be set on a copy of a slice from a DataFrame.\n",
      " pid=4584)\u001b[0m Try using .loc[row_indexer,col_indexer] = value instead\n",
      " pid=4584)\u001b[0m _story\n",
      " pid=4584)\u001b[0m See the caveats in the documentation: https://pandas.pydata.org/pandas-docs/stable/user_guide/indexing.html#returning-a-view-versus-a-copy\n",
      " pid=4584)\u001b[0m   super(GeoDataFrame, self).__setitem__(key, value)\n",
      " pid=8596)\u001b[0m c:\\Users\\adminlocal\\anaconda3\\envs\\verticalCity\\lib\\site-packages\\geopandas\\geodataframe.py:1322: SettingWithCopyWarning: \n",
      " pid=8596)\u001b[0m A value is trying to be set on a copy of a slice from a DataFrame.\n",
      " pid=8596)\u001b[0m Try using .loc[row_indexer,col_indexer] = value instead\n",
      " pid=8596)\u001b[0m _story\n",
      " pid=8596)\u001b[0m See the caveats in the documentation: https://pandas.pydata.org/pandas-docs/stable/user_guide/indexing.html#returning-a-view-versus-a-copy\n",
      " pid=8596)\u001b[0m   super(GeoDataFrame, self).__setitem__(key, value)\n",
      " pid=17496)\u001b[0m c:\\Users\\adminlocal\\anaconda3\\envs\\verticalCity\\lib\\site-packages\\geopandas\\geodataframe.py:1322: SettingWithCopyWarning: \n",
      " pid=17496)\u001b[0m A value is trying to be set on a copy of a slice from a DataFrame.\n",
      " pid=17496)\u001b[0m Try using .loc[row_indexer,col_indexer] = value instead\n",
      " pid=17496)\u001b[0m story\n",
      " pid=17496)\u001b[0m See the caveats in the documentation: https://pandas.pydata.org/pandas-docs/stable/user_guide/indexing.html#returning-a-view-versus-a-copy\n",
      " pid=17496)\u001b[0m   super(GeoDataFrame, self).__setitem__(key, value)\n",
      " pid=9160)\u001b[0m c:\\Users\\adminlocal\\anaconda3\\envs\\verticalCity\\lib\\site-packages\\geopandas\\geodataframe.py:1322: SettingWithCopyWarning: \n",
      " pid=9160)\u001b[0m A value is trying to be set on a copy of a slice from a DataFrame.\n",
      " pid=9160)\u001b[0m Try using .loc[row_indexer,col_indexer] = value instead\n",
      " pid=9160)\u001b[0m _story\n",
      " pid=9160)\u001b[0m See the caveats in the documentation: https://pandas.pydata.org/pandas-docs/stable/user_guide/indexing.html#returning-a-view-versus-a-copy\n",
      " pid=9160)\u001b[0m   super(GeoDataFrame, self).__setitem__(key, value)\n",
      " pid=15712)\u001b[0m c:\\Users\\adminlocal\\anaconda3\\envs\\verticalCity\\lib\\site-packages\\geopandas\\geodataframe.py:1322: SettingWithCopyWarning: \n",
      " pid=15712)\u001b[0m A value is trying to be set on a copy of a slice from a DataFrame.\n",
      " pid=15712)\u001b[0m Try using .loc[row_indexer,col_indexer] = value instead\n",
      " pid=15712)\u001b[0m story\n",
      " pid=15712)\u001b[0m See the caveats in the documentation: https://pandas.pydata.org/pandas-docs/stable/user_guide/indexing.html#returning-a-view-versus-a-copy\n",
      " pid=15712)\u001b[0m   super(GeoDataFrame, self).__setitem__(key, value)\n",
      " pid=18620)\u001b[0m c:\\Users\\adminlocal\\anaconda3\\envs\\verticalCity\\lib\\site-packages\\geopandas\\geodataframe.py:1322: SettingWithCopyWarning: \n",
      " pid=18620)\u001b[0m A value is trying to be set on a copy of a slice from a DataFrame.\n",
      " pid=18620)\u001b[0m Try using .loc[row_indexer,col_indexer] = value instead\n",
      " pid=18620)\u001b[0m story\n",
      " pid=18620)\u001b[0m See the caveats in the documentation: https://pandas.pydata.org/pandas-docs/stable/user_guide/indexing.html#returning-a-view-versus-a-copy\n",
      " pid=18620)\u001b[0m   super(GeoDataFrame, self).__setitem__(key, value)\n",
      " pid=5712)\u001b[0m c:\\Users\\adminlocal\\anaconda3\\envs\\verticalCity\\lib\\site-packages\\geopandas\\geodataframe.py:1322: SettingWithCopyWarning: \n",
      " pid=5712)\u001b[0m A value is trying to be set on a copy of a slice from a DataFrame.\n",
      " pid=5712)\u001b[0m Try using .loc[row_indexer,col_indexer] = value instead\n",
      " pid=5712)\u001b[0m _story\n",
      " pid=5712)\u001b[0m See the caveats in the documentation: https://pandas.pydata.org/pandas-docs/stable/user_guide/indexing.html#returning-a-view-versus-a-copy\n",
      " pid=5712)\u001b[0m   super(GeoDataFrame, self).__setitem__(key, value)\n",
      " pid=8828)\u001b[0m c:\\Users\\adminlocal\\anaconda3\\envs\\verticalCity\\lib\\site-packages\\geopandas\\geodataframe.py:1322: SettingWithCopyWarning: \n",
      " pid=8828)\u001b[0m A value is trying to be set on a copy of a slice from a DataFrame.\n",
      " pid=8828)\u001b[0m Try using .loc[row_indexer,col_indexer] = value instead\n",
      " pid=8828)\u001b[0m _story\n",
      " pid=8828)\u001b[0m See the caveats in the documentation: https://pandas.pydata.org/pandas-docs/stable/user_guide/indexing.html#returning-a-view-versus-a-copy\n",
      " pid=8828)\u001b[0m   super(GeoDataFrame, self).__setitem__(key, value)\n",
      " pid=13144)\u001b[0m c:\\Users\\adminlocal\\anaconda3\\envs\\verticalCity\\lib\\site-packages\\geopandas\\geodataframe.py:1322: SettingWithCopyWarning: \n",
      " pid=13144)\u001b[0m A value is trying to be set on a copy of a slice from a DataFrame.\n",
      " pid=13144)\u001b[0m Try using .loc[row_indexer,col_indexer] = value instead\n",
      " pid=13144)\u001b[0m story\n",
      " pid=13144)\u001b[0m See the caveats in the documentation: https://pandas.pydata.org/pandas-docs/stable/user_guide/indexing.html#returning-a-view-versus-a-copy\n",
      " pid=13144)\u001b[0m   super(GeoDataFrame, self).__setitem__(key, value)\n",
      " pid=17772)\u001b[0m c:\\Users\\adminlocal\\anaconda3\\envs\\verticalCity\\lib\\site-packages\\geopandas\\geodataframe.py:1322: SettingWithCopyWarning: \n",
      " pid=17772)\u001b[0m A value is trying to be set on a copy of a slice from a DataFrame.\n",
      " pid=17772)\u001b[0m Try using .loc[row_indexer,col_indexer] = value instead\n",
      " pid=17772)\u001b[0m story\n",
      " pid=17772)\u001b[0m See the caveats in the documentation: https://pandas.pydata.org/pandas-docs/stable/user_guide/indexing.html#returning-a-view-versus-a-copy\n",
      " pid=17772)\u001b[0m   super(GeoDataFrame, self).__setitem__(key, value)\n",
      " pid=18600)\u001b[0m c:\\Users\\adminlocal\\anaconda3\\envs\\verticalCity\\lib\\site-packages\\geopandas\\geodataframe.py:1322: SettingWithCopyWarning: \n",
      " pid=18600)\u001b[0m A value is trying to be set on a copy of a slice from a DataFrame.\n",
      " pid=18600)\u001b[0m Try using .loc[row_indexer,col_indexer] = value instead\n",
      " pid=18600)\u001b[0m story\n",
      " pid=18600)\u001b[0m See the caveats in the documentation: https://pandas.pydata.org/pandas-docs/stable/user_guide/indexing.html#returning-a-view-versus-a-copy\n",
      " pid=18600)\u001b[0m   super(GeoDataFrame, self).__setitem__(key, value)\n",
      " pid=16736)\u001b[0m c:\\Users\\adminlocal\\anaconda3\\envs\\verticalCity\\lib\\site-packages\\geopandas\\geodataframe.py:1322: SettingWithCopyWarning: \n",
      " pid=16736)\u001b[0m A value is trying to be set on a copy of a slice from a DataFrame.\n",
      " pid=16736)\u001b[0m Try using .loc[row_indexer,col_indexer] = value instead\n",
      " pid=16736)\u001b[0m story\n",
      " pid=16736)\u001b[0m See the caveats in the documentation: https://pandas.pydata.org/pandas-docs/stable/user_guide/indexing.html#returning-a-view-versus-a-copy\n",
      " pid=16736)\u001b[0m   super(GeoDataFrame, self).__setitem__(key, value)\n",
      " pid=15512)\u001b[0m c:\\Users\\adminlocal\\anaconda3\\envs\\verticalCity\\lib\\site-packages\\geopandas\\geodataframe.py:1322: SettingWithCopyWarning: \n",
      " pid=15512)\u001b[0m A value is trying to be set on a copy of a slice from a DataFrame.\n",
      " pid=15512)\u001b[0m Try using .loc[row_indexer,col_indexer] = value instead\n",
      " pid=15512)\u001b[0m story\n",
      " pid=15512)\u001b[0m See the caveats in the documentation: https://pandas.pydata.org/pandas-docs/stable/user_guide/indexing.html#returning-a-view-versus-a-copy\n",
      " pid=15512)\u001b[0m   super(GeoDataFrame, self).__setitem__(key, value)\n"
     ]
    },
    {
     "name": "stdout",
     "output_type": "stream",
     "text": [
      " pid=18808)\u001b[0m Story being evaluated: 16\n",
      " pid=372)\u001b[0m Story being evaluated: 17\n",
      " pid=4584)\u001b[0m Story being evaluated: 19\n",
      " pid=17496)\u001b[0m Story being evaluated: 18\n"
     ]
    },
    {
     "name": "stderr",
     "output_type": "stream",
     "text": [
      " pid=18808)\u001b[0m c:\\Users\\adminlocal\\anaconda3\\envs\\verticalCity\\lib\\site-packages\\geopandas\\geodataframe.py:1322: SettingWithCopyWarning: \n",
      " pid=18808)\u001b[0m A value is trying to be set on a copy of a slice from a DataFrame.\n",
      " pid=18808)\u001b[0m Try using .loc[row_indexer,col_indexer] = value instead\n",
      " pid=18808)\u001b[0m story\n",
      " pid=18808)\u001b[0m See the caveats in the documentation: https://pandas.pydata.org/pandas-docs/stable/user_guide/indexing.html#returning-a-view-versus-a-copy\n",
      " pid=18808)\u001b[0m   super(GeoDataFrame, self).__setitem__(key, value)\n",
      " pid=372)\u001b[0m c:\\Users\\adminlocal\\anaconda3\\envs\\verticalCity\\lib\\site-packages\\geopandas\\geodataframe.py:1322: SettingWithCopyWarning: \n",
      " pid=372)\u001b[0m A value is trying to be set on a copy of a slice from a DataFrame.\n",
      " pid=372)\u001b[0m Try using .loc[row_indexer,col_indexer] = value instead\n",
      " pid=372)\u001b[0m e_story\n",
      " pid=372)\u001b[0m See the caveats in the documentation: https://pandas.pydata.org/pandas-docs/stable/user_guide/indexing.html#returning-a-view-versus-a-copy\n",
      " pid=372)\u001b[0m   super(GeoDataFrame, self).__setitem__(key, value)\n",
      " pid=4584)\u001b[0m c:\\Users\\adminlocal\\anaconda3\\envs\\verticalCity\\lib\\site-packages\\geopandas\\geodataframe.py:1322: SettingWithCopyWarning: \n",
      " pid=4584)\u001b[0m A value is trying to be set on a copy of a slice from a DataFrame.\n",
      " pid=4584)\u001b[0m Try using .loc[row_indexer,col_indexer] = value instead\n",
      " pid=4584)\u001b[0m _story\n",
      " pid=4584)\u001b[0m See the caveats in the documentation: https://pandas.pydata.org/pandas-docs/stable/user_guide/indexing.html#returning-a-view-versus-a-copy\n",
      " pid=4584)\u001b[0m   super(GeoDataFrame, self).__setitem__(key, value)\n",
      " pid=17496)\u001b[0m c:\\Users\\adminlocal\\anaconda3\\envs\\verticalCity\\lib\\site-packages\\geopandas\\geodataframe.py:1322: SettingWithCopyWarning: \n",
      " pid=17496)\u001b[0m A value is trying to be set on a copy of a slice from a DataFrame.\n",
      " pid=17496)\u001b[0m Try using .loc[row_indexer,col_indexer] = value instead\n",
      " pid=17496)\u001b[0m story\n",
      " pid=17496)\u001b[0m See the caveats in the documentation: https://pandas.pydata.org/pandas-docs/stable/user_guide/indexing.html#returning-a-view-versus-a-copy\n",
      " pid=17496)\u001b[0m   super(GeoDataFrame, self).__setitem__(key, value)\n",
      " pid=18620)\u001b[0m c:\\Users\\adminlocal\\anaconda3\\envs\\verticalCity\\lib\\site-packages\\geopandas\\geodataframe.py:1322: SettingWithCopyWarning: \n",
      " pid=18620)\u001b[0m A value is trying to be set on a copy of a slice from a DataFrame.\n",
      " pid=18620)\u001b[0m Try using .loc[row_indexer,col_indexer] = value instead\n",
      " pid=18620)\u001b[0m story\n",
      " pid=18620)\u001b[0m See the caveats in the documentation: https://pandas.pydata.org/pandas-docs/stable/user_guide/indexing.html#returning-a-view-versus-a-copy\n",
      " pid=18620)\u001b[0m   super(GeoDataFrame, self).__setitem__(key, value)\n",
      " pid=17772)\u001b[0m c:\\Users\\adminlocal\\anaconda3\\envs\\verticalCity\\lib\\site-packages\\geopandas\\geodataframe.py:1322: SettingWithCopyWarning: \n",
      " pid=17772)\u001b[0m A value is trying to be set on a copy of a slice from a DataFrame.\n",
      " pid=17772)\u001b[0m Try using .loc[row_indexer,col_indexer] = value instead\n",
      " pid=17772)\u001b[0m story\n",
      " pid=17772)\u001b[0m See the caveats in the documentation: https://pandas.pydata.org/pandas-docs/stable/user_guide/indexing.html#returning-a-view-versus-a-copy\n",
      " pid=17772)\u001b[0m   super(GeoDataFrame, self).__setitem__(key, value)\n"
     ]
    },
    {
     "name": "stdout",
     "output_type": "stream",
     "text": [
      " pid=18620)\u001b[0m Story being evaluated: 20\n",
      " pid=17772)\u001b[0m Story being evaluated: 21\n",
      " pid=18600)\u001b[0m Story being evaluated: 22\n"
     ]
    },
    {
     "name": "stderr",
     "output_type": "stream",
     "text": [
      " pid=18600)\u001b[0m c:\\Users\\adminlocal\\anaconda3\\envs\\verticalCity\\lib\\site-packages\\geopandas\\geodataframe.py:1322: SettingWithCopyWarning: \n",
      " pid=18600)\u001b[0m A value is trying to be set on a copy of a slice from a DataFrame.\n",
      " pid=18600)\u001b[0m Try using .loc[row_indexer,col_indexer] = value instead\n",
      " pid=18600)\u001b[0m story\n",
      " pid=18600)\u001b[0m See the caveats in the documentation: https://pandas.pydata.org/pandas-docs/stable/user_guide/indexing.html#returning-a-view-versus-a-copy\n",
      " pid=18600)\u001b[0m   super(GeoDataFrame, self).__setitem__(key, value)\n"
     ]
    },
    {
     "name": "stdout",
     "output_type": "stream",
     "text": [
      " pid=8016)\u001b[0m Story being evaluated: 23\n"
     ]
    },
    {
     "name": "stderr",
     "output_type": "stream",
     "text": [
      " pid=8016)\u001b[0m c:\\Users\\adminlocal\\anaconda3\\envs\\verticalCity\\lib\\site-packages\\geopandas\\geodataframe.py:1322: SettingWithCopyWarning: \n",
      " pid=8016)\u001b[0m A value is trying to be set on a copy of a slice from a DataFrame.\n",
      " pid=8016)\u001b[0m Try using .loc[row_indexer,col_indexer] = value instead\n",
      " pid=8016)\u001b[0m _story\n",
      " pid=8016)\u001b[0m See the caveats in the documentation: https://pandas.pydata.org/pandas-docs/stable/user_guide/indexing.html#returning-a-view-versus-a-copy\n",
      " pid=8016)\u001b[0m   super(GeoDataFrame, self).__setitem__(key, value)\n",
      " pid=8596)\u001b[0m c:\\Users\\adminlocal\\anaconda3\\envs\\verticalCity\\lib\\site-packages\\geopandas\\geodataframe.py:1322: SettingWithCopyWarning: \n",
      " pid=8596)\u001b[0m A value is trying to be set on a copy of a slice from a DataFrame.\n",
      " pid=8596)\u001b[0m Try using .loc[row_indexer,col_indexer] = value instead\n",
      " pid=8596)\u001b[0m _story\n",
      " pid=8596)\u001b[0m See the caveats in the documentation: https://pandas.pydata.org/pandas-docs/stable/user_guide/indexing.html#returning-a-view-versus-a-copy\n",
      " pid=8596)\u001b[0m   super(GeoDataFrame, self).__setitem__(key, value)\n",
      " pid=15712)\u001b[0m c:\\Users\\adminlocal\\anaconda3\\envs\\verticalCity\\lib\\site-packages\\geopandas\\geodataframe.py:1322: SettingWithCopyWarning: \n",
      " pid=15712)\u001b[0m A value is trying to be set on a copy of a slice from a DataFrame.\n",
      " pid=15712)\u001b[0m Try using .loc[row_indexer,col_indexer] = value instead\n",
      " pid=15712)\u001b[0m story\n",
      " pid=15712)\u001b[0m See the caveats in the documentation: https://pandas.pydata.org/pandas-docs/stable/user_guide/indexing.html#returning-a-view-versus-a-copy\n",
      " pid=15712)\u001b[0m   super(GeoDataFrame, self).__setitem__(key, value)\n",
      " pid=5712)\u001b[0m c:\\Users\\adminlocal\\anaconda3\\envs\\verticalCity\\lib\\site-packages\\geopandas\\geodataframe.py:1322: SettingWithCopyWarning: \n",
      " pid=5712)\u001b[0m A value is trying to be set on a copy of a slice from a DataFrame.\n",
      " pid=5712)\u001b[0m Try using .loc[row_indexer,col_indexer] = value instead\n",
      " pid=5712)\u001b[0m _story\n",
      " pid=5712)\u001b[0m See the caveats in the documentation: https://pandas.pydata.org/pandas-docs/stable/user_guide/indexing.html#returning-a-view-versus-a-copy\n",
      " pid=5712)\u001b[0m   super(GeoDataFrame, self).__setitem__(key, value)\n"
     ]
    },
    {
     "name": "stdout",
     "output_type": "stream",
     "text": [
      " pid=8596)\u001b[0m Story being evaluated: 24\n",
      " pid=5712)\u001b[0m Story being evaluated: 25\n",
      " pid=15712)\u001b[0m Story being evaluated: 26\n",
      " pid=13144)\u001b[0m Story being evaluated: 27\n"
     ]
    },
    {
     "name": "stderr",
     "output_type": "stream",
     "text": [
      " pid=8828)\u001b[0m c:\\Users\\adminlocal\\anaconda3\\envs\\verticalCity\\lib\\site-packages\\geopandas\\geodataframe.py:1322: SettingWithCopyWarning: \n",
      " pid=8828)\u001b[0m A value is trying to be set on a copy of a slice from a DataFrame.\n",
      " pid=8828)\u001b[0m Try using .loc[row_indexer,col_indexer] = value instead\n",
      " pid=8828)\u001b[0m _story\n",
      " pid=8828)\u001b[0m See the caveats in the documentation: https://pandas.pydata.org/pandas-docs/stable/user_guide/indexing.html#returning-a-view-versus-a-copy\n",
      " pid=8828)\u001b[0m   super(GeoDataFrame, self).__setitem__(key, value)\n",
      " pid=13144)\u001b[0m c:\\Users\\adminlocal\\anaconda3\\envs\\verticalCity\\lib\\site-packages\\geopandas\\geodataframe.py:1322: SettingWithCopyWarning: \n",
      " pid=13144)\u001b[0m A value is trying to be set on a copy of a slice from a DataFrame.\n",
      " pid=13144)\u001b[0m Try using .loc[row_indexer,col_indexer] = value instead\n",
      " pid=13144)\u001b[0m story\n",
      " pid=13144)\u001b[0m See the caveats in the documentation: https://pandas.pydata.org/pandas-docs/stable/user_guide/indexing.html#returning-a-view-versus-a-copy\n",
      " pid=13144)\u001b[0m   super(GeoDataFrame, self).__setitem__(key, value)\n",
      " pid=9160)\u001b[0m c:\\Users\\adminlocal\\anaconda3\\envs\\verticalCity\\lib\\site-packages\\geopandas\\geodataframe.py:1322: SettingWithCopyWarning: \n",
      " pid=9160)\u001b[0m A value is trying to be set on a copy of a slice from a DataFrame.\n",
      " pid=9160)\u001b[0m Try using .loc[row_indexer,col_indexer] = value instead\n",
      " pid=9160)\u001b[0m _story\n",
      " pid=9160)\u001b[0m See the caveats in the documentation: https://pandas.pydata.org/pandas-docs/stable/user_guide/indexing.html#returning-a-view-versus-a-copy\n",
      " pid=9160)\u001b[0m   super(GeoDataFrame, self).__setitem__(key, value)\n",
      " pid=16736)\u001b[0m c:\\Users\\adminlocal\\anaconda3\\envs\\verticalCity\\lib\\site-packages\\geopandas\\geodataframe.py:1322: SettingWithCopyWarning: \n",
      " pid=16736)\u001b[0m A value is trying to be set on a copy of a slice from a DataFrame.\n",
      " pid=16736)\u001b[0m Try using .loc[row_indexer,col_indexer] = value instead\n",
      " pid=16736)\u001b[0m story\n",
      " pid=16736)\u001b[0m See the caveats in the documentation: https://pandas.pydata.org/pandas-docs/stable/user_guide/indexing.html#returning-a-view-versus-a-copy\n",
      " pid=16736)\u001b[0m   super(GeoDataFrame, self).__setitem__(key, value)\n",
      " pid=15512)\u001b[0m c:\\Users\\adminlocal\\anaconda3\\envs\\verticalCity\\lib\\site-packages\\geopandas\\geodataframe.py:1322: SettingWithCopyWarning: \n",
      " pid=15512)\u001b[0m A value is trying to be set on a copy of a slice from a DataFrame.\n",
      " pid=15512)\u001b[0m Try using .loc[row_indexer,col_indexer] = value instead\n",
      " pid=15512)\u001b[0m story\n",
      " pid=15512)\u001b[0m See the caveats in the documentation: https://pandas.pydata.org/pandas-docs/stable/user_guide/indexing.html#returning-a-view-versus-a-copy\n",
      " pid=15512)\u001b[0m   super(GeoDataFrame, self).__setitem__(key, value)\n"
     ]
    },
    {
     "name": "stdout",
     "output_type": "stream",
     "text": [
      " pid=8828)\u001b[0m Story being evaluated: 28\n",
      " pid=15512)\u001b[0m Story being evaluated: 29\n",
      " pid=9160)\u001b[0m Story being evaluated: 30\n",
      " pid=16736)\u001b[0m Story being evaluated: 31\n",
      " pid=18620)\u001b[0m Story being evaluated: 32\n",
      " pid=17772)\u001b[0m Story being evaluated: 33\n"
     ]
    },
    {
     "name": "stderr",
     "output_type": "stream",
     "text": [
      " pid=18620)\u001b[0m c:\\Users\\adminlocal\\anaconda3\\envs\\verticalCity\\lib\\site-packages\\geopandas\\geodataframe.py:1322: SettingWithCopyWarning: \n",
      " pid=18620)\u001b[0m A value is trying to be set on a copy of a slice from a DataFrame.\n",
      " pid=18620)\u001b[0m Try using .loc[row_indexer,col_indexer] = value instead\n",
      " pid=18620)\u001b[0m story\n",
      " pid=18620)\u001b[0m See the caveats in the documentation: https://pandas.pydata.org/pandas-docs/stable/user_guide/indexing.html#returning-a-view-versus-a-copy\n",
      " pid=18620)\u001b[0m   super(GeoDataFrame, self).__setitem__(key, value)\n",
      " pid=17772)\u001b[0m c:\\Users\\adminlocal\\anaconda3\\envs\\verticalCity\\lib\\site-packages\\geopandas\\geodataframe.py:1322: SettingWithCopyWarning: \n",
      " pid=17772)\u001b[0m A value is trying to be set on a copy of a slice from a DataFrame.\n",
      " pid=17772)\u001b[0m Try using .loc[row_indexer,col_indexer] = value instead\n",
      " pid=17772)\u001b[0m story\n",
      " pid=17772)\u001b[0m See the caveats in the documentation: https://pandas.pydata.org/pandas-docs/stable/user_guide/indexing.html#returning-a-view-versus-a-copy\n",
      " pid=17772)\u001b[0m   super(GeoDataFrame, self).__setitem__(key, value)\n"
     ]
    },
    {
     "name": "stdout",
     "output_type": "stream",
     "text": [
      " pid=18808)\u001b[0m Story being evaluated: 34\n"
     ]
    },
    {
     "name": "stderr",
     "output_type": "stream",
     "text": [
      " pid=18808)\u001b[0m c:\\Users\\adminlocal\\anaconda3\\envs\\verticalCity\\lib\\site-packages\\geopandas\\geodataframe.py:1322: SettingWithCopyWarning: \n",
      " pid=18808)\u001b[0m A value is trying to be set on a copy of a slice from a DataFrame.\n",
      " pid=18808)\u001b[0m Try using .loc[row_indexer,col_indexer] = value instead\n",
      " pid=18808)\u001b[0m story\n",
      " pid=18808)\u001b[0m See the caveats in the documentation: https://pandas.pydata.org/pandas-docs/stable/user_guide/indexing.html#returning-a-view-versus-a-copy\n",
      " pid=18808)\u001b[0m   super(GeoDataFrame, self).__setitem__(key, value)\n",
      " pid=17496)\u001b[0m c:\\Users\\adminlocal\\anaconda3\\envs\\verticalCity\\lib\\site-packages\\geopandas\\geodataframe.py:1322: SettingWithCopyWarning: \n",
      " pid=17496)\u001b[0m A value is trying to be set on a copy of a slice from a DataFrame.\n",
      " pid=17496)\u001b[0m Try using .loc[row_indexer,col_indexer] = value instead\n",
      " pid=17496)\u001b[0m story\n",
      " pid=17496)\u001b[0m See the caveats in the documentation: https://pandas.pydata.org/pandas-docs/stable/user_guide/indexing.html#returning-a-view-versus-a-copy\n",
      " pid=17496)\u001b[0m   super(GeoDataFrame, self).__setitem__(key, value)\n"
     ]
    },
    {
     "name": "stdout",
     "output_type": "stream",
     "text": [
      " pid=17496)\u001b[0m Story being evaluated: 35\n",
      " pid=372)\u001b[0m Story being evaluated: 36\n",
      " pid=4584)\u001b[0m Story being evaluated: 37\n"
     ]
    },
    {
     "name": "stderr",
     "output_type": "stream",
     "text": [
      " pid=372)\u001b[0m c:\\Users\\adminlocal\\anaconda3\\envs\\verticalCity\\lib\\site-packages\\geopandas\\geodataframe.py:1322: SettingWithCopyWarning: \n",
      " pid=372)\u001b[0m A value is trying to be set on a copy of a slice from a DataFrame.\n",
      " pid=372)\u001b[0m Try using .loc[row_indexer,col_indexer] = value instead\n",
      " pid=372)\u001b[0m e_story\n",
      " pid=372)\u001b[0m See the caveats in the documentation: https://pandas.pydata.org/pandas-docs/stable/user_guide/indexing.html#returning-a-view-versus-a-copy\n",
      " pid=372)\u001b[0m   super(GeoDataFrame, self).__setitem__(key, value)\n",
      " pid=4584)\u001b[0m c:\\Users\\adminlocal\\anaconda3\\envs\\verticalCity\\lib\\site-packages\\geopandas\\geodataframe.py:1322: SettingWithCopyWarning: \n",
      " pid=4584)\u001b[0m A value is trying to be set on a copy of a slice from a DataFrame.\n",
      " pid=4584)\u001b[0m Try using .loc[row_indexer,col_indexer] = value instead\n",
      " pid=4584)\u001b[0m _story\n",
      " pid=4584)\u001b[0m See the caveats in the documentation: https://pandas.pydata.org/pandas-docs/stable/user_guide/indexing.html#returning-a-view-versus-a-copy\n",
      " pid=4584)\u001b[0m   super(GeoDataFrame, self).__setitem__(key, value)\n"
     ]
    },
    {
     "name": "stdout",
     "output_type": "stream",
     "text": [
      " pid=18600)\u001b[0m Story being evaluated: 38\n"
     ]
    },
    {
     "name": "stderr",
     "output_type": "stream",
     "text": [
      " pid=18600)\u001b[0m c:\\Users\\adminlocal\\anaconda3\\envs\\verticalCity\\lib\\site-packages\\geopandas\\geodataframe.py:1322: SettingWithCopyWarning: \n",
      " pid=18600)\u001b[0m A value is trying to be set on a copy of a slice from a DataFrame.\n",
      " pid=18600)\u001b[0m Try using .loc[row_indexer,col_indexer] = value instead\n",
      " pid=18600)\u001b[0m story\n",
      " pid=18600)\u001b[0m See the caveats in the documentation: https://pandas.pydata.org/pandas-docs/stable/user_guide/indexing.html#returning-a-view-versus-a-copy\n",
      " pid=18600)\u001b[0m   super(GeoDataFrame, self).__setitem__(key, value)\n"
     ]
    },
    {
     "name": "stdout",
     "output_type": "stream",
     "text": [
      " pid=13144)\u001b[0m Story being evaluated: 39\n"
     ]
    },
    {
     "name": "stderr",
     "output_type": "stream",
     "text": [
      " pid=13144)\u001b[0m c:\\Users\\adminlocal\\anaconda3\\envs\\verticalCity\\lib\\site-packages\\geopandas\\geodataframe.py:1322: SettingWithCopyWarning: \n",
      " pid=13144)\u001b[0m A value is trying to be set on a copy of a slice from a DataFrame.\n",
      " pid=13144)\u001b[0m Try using .loc[row_indexer,col_indexer] = value instead\n",
      " pid=13144)\u001b[0m story\n",
      " pid=13144)\u001b[0m See the caveats in the documentation: https://pandas.pydata.org/pandas-docs/stable/user_guide/indexing.html#returning-a-view-versus-a-copy\n",
      " pid=13144)\u001b[0m   super(GeoDataFrame, self).__setitem__(key, value)\n",
      " pid=5712)\u001b[0m c:\\Users\\adminlocal\\anaconda3\\envs\\verticalCity\\lib\\site-packages\\geopandas\\geodataframe.py:1322: SettingWithCopyWarning: \n",
      " pid=5712)\u001b[0m A value is trying to be set on a copy of a slice from a DataFrame.\n",
      " pid=5712)\u001b[0m Try using .loc[row_indexer,col_indexer] = value instead\n",
      " pid=5712)\u001b[0m _story\n",
      " pid=5712)\u001b[0m See the caveats in the documentation: https://pandas.pydata.org/pandas-docs/stable/user_guide/indexing.html#returning-a-view-versus-a-copy\n",
      " pid=5712)\u001b[0m   super(GeoDataFrame, self).__setitem__(key, value)\n"
     ]
    },
    {
     "name": "stdout",
     "output_type": "stream",
     "text": [
      " pid=8016)\u001b[0m Story being evaluated: 43\n",
      " pid=8596)\u001b[0m Story being evaluated: 41\n",
      " pid=5712)\u001b[0m Story being evaluated: 40\n",
      " pid=8828)\u001b[0m Story being evaluated: 42\n",
      " pid=15712)\u001b[0m Story being evaluated: 44\n",
      " pid=15512)\u001b[0m Story being evaluated: 45\n"
     ]
    },
    {
     "name": "stderr",
     "output_type": "stream",
     "text": [
      " pid=8016)\u001b[0m c:\\Users\\adminlocal\\anaconda3\\envs\\verticalCity\\lib\\site-packages\\geopandas\\geodataframe.py:1322: SettingWithCopyWarning: \n",
      " pid=8016)\u001b[0m A value is trying to be set on a copy of a slice from a DataFrame.\n",
      " pid=8016)\u001b[0m Try using .loc[row_indexer,col_indexer] = value instead\n",
      " pid=8016)\u001b[0m _story\n",
      " pid=8016)\u001b[0m See the caveats in the documentation: https://pandas.pydata.org/pandas-docs/stable/user_guide/indexing.html#returning-a-view-versus-a-copy\n",
      " pid=8016)\u001b[0m   super(GeoDataFrame, self).__setitem__(key, value)\n",
      " pid=8596)\u001b[0m c:\\Users\\adminlocal\\anaconda3\\envs\\verticalCity\\lib\\site-packages\\geopandas\\geodataframe.py:1322: SettingWithCopyWarning: \n",
      " pid=8596)\u001b[0m A value is trying to be set on a copy of a slice from a DataFrame.\n",
      " pid=8596)\u001b[0m Try using .loc[row_indexer,col_indexer] = value instead\n",
      " pid=8596)\u001b[0m _story\n",
      " pid=8596)\u001b[0m See the caveats in the documentation: https://pandas.pydata.org/pandas-docs/stable/user_guide/indexing.html#returning-a-view-versus-a-copy\n",
      " pid=8596)\u001b[0m   super(GeoDataFrame, self).__setitem__(key, value)\n",
      " pid=8828)\u001b[0m c:\\Users\\adminlocal\\anaconda3\\envs\\verticalCity\\lib\\site-packages\\geopandas\\geodataframe.py:1322: SettingWithCopyWarning: \n",
      " pid=8828)\u001b[0m A value is trying to be set on a copy of a slice from a DataFrame.\n",
      " pid=8828)\u001b[0m Try using .loc[row_indexer,col_indexer] = value instead\n",
      " pid=8828)\u001b[0m _story\n",
      " pid=8828)\u001b[0m See the caveats in the documentation: https://pandas.pydata.org/pandas-docs/stable/user_guide/indexing.html#returning-a-view-versus-a-copy\n",
      " pid=8828)\u001b[0m   super(GeoDataFrame, self).__setitem__(key, value)\n",
      " pid=15712)\u001b[0m c:\\Users\\adminlocal\\anaconda3\\envs\\verticalCity\\lib\\site-packages\\geopandas\\geodataframe.py:1322: SettingWithCopyWarning: \n",
      " pid=15712)\u001b[0m A value is trying to be set on a copy of a slice from a DataFrame.\n",
      " pid=15712)\u001b[0m Try using .loc[row_indexer,col_indexer] = value instead\n",
      " pid=15712)\u001b[0m story\n",
      " pid=15712)\u001b[0m See the caveats in the documentation: https://pandas.pydata.org/pandas-docs/stable/user_guide/indexing.html#returning-a-view-versus-a-copy\n",
      " pid=15712)\u001b[0m   super(GeoDataFrame, self).__setitem__(key, value)\n",
      " pid=16736)\u001b[0m c:\\Users\\adminlocal\\anaconda3\\envs\\verticalCity\\lib\\site-packages\\geopandas\\geodataframe.py:1322: SettingWithCopyWarning: \n",
      " pid=16736)\u001b[0m A value is trying to be set on a copy of a slice from a DataFrame.\n",
      " pid=16736)\u001b[0m Try using .loc[row_indexer,col_indexer] = value instead\n",
      " pid=16736)\u001b[0m story\n",
      " pid=16736)\u001b[0m See the caveats in the documentation: https://pandas.pydata.org/pandas-docs/stable/user_guide/indexing.html#returning-a-view-versus-a-copy\n",
      " pid=16736)\u001b[0m   super(GeoDataFrame, self).__setitem__(key, value)\n",
      " pid=15512)\u001b[0m c:\\Users\\adminlocal\\anaconda3\\envs\\verticalCity\\lib\\site-packages\\geopandas\\geodataframe.py:1322: SettingWithCopyWarning: \n",
      " pid=15512)\u001b[0m A value is trying to be set on a copy of a slice from a DataFrame.\n",
      " pid=15512)\u001b[0m Try using .loc[row_indexer,col_indexer] = value instead\n",
      " pid=15512)\u001b[0m story\n",
      " pid=15512)\u001b[0m See the caveats in the documentation: https://pandas.pydata.org/pandas-docs/stable/user_guide/indexing.html#returning-a-view-versus-a-copy\n",
      " pid=15512)\u001b[0m   super(GeoDataFrame, self).__setitem__(key, value)\n"
     ]
    },
    {
     "name": "stdout",
     "output_type": "stream",
     "text": [
      " pid=16736)\u001b[0m Story being evaluated: 46\n",
      " pid=9160)\u001b[0m Story being evaluated: 47\n"
     ]
    },
    {
     "name": "stderr",
     "output_type": "stream",
     "text": [
      " pid=9160)\u001b[0m c:\\Users\\adminlocal\\anaconda3\\envs\\verticalCity\\lib\\site-packages\\geopandas\\geodataframe.py:1322: SettingWithCopyWarning: \n",
      " pid=9160)\u001b[0m A value is trying to be set on a copy of a slice from a DataFrame.\n",
      " pid=9160)\u001b[0m Try using .loc[row_indexer,col_indexer] = value instead\n",
      " pid=9160)\u001b[0m _story\n",
      " pid=9160)\u001b[0m See the caveats in the documentation: https://pandas.pydata.org/pandas-docs/stable/user_guide/indexing.html#returning-a-view-versus-a-copy\n",
      " pid=9160)\u001b[0m   super(GeoDataFrame, self).__setitem__(key, value)\n"
     ]
    },
    {
     "name": "stdout",
     "output_type": "stream",
     "text": [
      " pid=17772)\u001b[0m Story being evaluated: 48\n",
      " pid=18620)\u001b[0m Story being evaluated: 49\n"
     ]
    },
    {
     "name": "stderr",
     "output_type": "stream",
     "text": [
      " pid=17772)\u001b[0m c:\\Users\\adminlocal\\anaconda3\\envs\\verticalCity\\lib\\site-packages\\geopandas\\geodataframe.py:1322: SettingWithCopyWarning: \n",
      " pid=17772)\u001b[0m A value is trying to be set on a copy of a slice from a DataFrame.\n",
      " pid=17772)\u001b[0m Try using .loc[row_indexer,col_indexer] = value instead\n",
      " pid=17772)\u001b[0m story\n",
      " pid=17772)\u001b[0m See the caveats in the documentation: https://pandas.pydata.org/pandas-docs/stable/user_guide/indexing.html#returning-a-view-versus-a-copy\n",
      " pid=17772)\u001b[0m   super(GeoDataFrame, self).__setitem__(key, value)\n",
      " pid=18620)\u001b[0m c:\\Users\\adminlocal\\anaconda3\\envs\\verticalCity\\lib\\site-packages\\geopandas\\geodataframe.py:1322: SettingWithCopyWarning: \n",
      " pid=18620)\u001b[0m A value is trying to be set on a copy of a slice from a DataFrame.\n",
      " pid=18620)\u001b[0m Try using .loc[row_indexer,col_indexer] = value instead\n",
      " pid=18620)\u001b[0m story\n",
      " pid=18620)\u001b[0m See the caveats in the documentation: https://pandas.pydata.org/pandas-docs/stable/user_guide/indexing.html#returning-a-view-versus-a-copy\n",
      " pid=18620)\u001b[0m   super(GeoDataFrame, self).__setitem__(key, value)\n"
     ]
    },
    {
     "name": "stdout",
     "output_type": "stream",
     "text": [
      " pid=17496)\u001b[0m Story being evaluated: 50\n",
      " pid=18808)\u001b[0m Story being evaluated: 51\n"
     ]
    },
    {
     "name": "stderr",
     "output_type": "stream",
     "text": [
      " pid=17496)\u001b[0m c:\\Users\\adminlocal\\anaconda3\\envs\\verticalCity\\lib\\site-packages\\geopandas\\geodataframe.py:1322: SettingWithCopyWarning: \n",
      " pid=17496)\u001b[0m A value is trying to be set on a copy of a slice from a DataFrame.\n",
      " pid=17496)\u001b[0m Try using .loc[row_indexer,col_indexer] = value instead\n",
      " pid=17496)\u001b[0m story\n",
      " pid=17496)\u001b[0m See the caveats in the documentation: https://pandas.pydata.org/pandas-docs/stable/user_guide/indexing.html#returning-a-view-versus-a-copy\n",
      " pid=17496)\u001b[0m   super(GeoDataFrame, self).__setitem__(key, value)\n",
      " pid=18808)\u001b[0m c:\\Users\\adminlocal\\anaconda3\\envs\\verticalCity\\lib\\site-packages\\geopandas\\geodataframe.py:1322: SettingWithCopyWarning: \n",
      " pid=18808)\u001b[0m A value is trying to be set on a copy of a slice from a DataFrame.\n",
      " pid=18808)\u001b[0m Try using .loc[row_indexer,col_indexer] = value instead\n",
      " pid=18808)\u001b[0m story\n",
      " pid=18808)\u001b[0m See the caveats in the documentation: https://pandas.pydata.org/pandas-docs/stable/user_guide/indexing.html#returning-a-view-versus-a-copy\n",
      " pid=18808)\u001b[0m   super(GeoDataFrame, self).__setitem__(key, value)\n"
     ]
    }
   ],
   "source": [
    "ray_object = ray.get([remote_parse_story.remote(list_geoms[story],story) for story in range(0,len(list_geoms))])"
   ]
  },
  {
   "cell_type": "code",
   "execution_count": 15,
   "metadata": {},
   "outputs": [],
   "source": [
    "#CREATE THE NODES AND EDGES TABLE AND ADD THE PARSED STORIES\n",
    "nodes_df = pd.DataFrame({\n",
    "    'id':[],\n",
    "    'x':[],\n",
    "    'y':[],\n",
    "    'z':[],\n",
    "    'type_of_entity':[],\n",
    "    'EntityHandle':[]\n",
    "    })\n",
    "edges_df = pd.DataFrame({\n",
    "    'id':[],\n",
    "    'from':[],\n",
    "    'to':[],\n",
    "    'distance':[]\n",
    "})\n",
    "\n",
    "for element in ray_object:\n",
    "    element[0]\n",
    "    nodes_df = pd.concat([nodes_df,element[0]], ignore_index = True)\n",
    "    edges_df = pd.concat([edges_df,element[1]], ignore_index = True)"
   ]
  },
  {
   "cell_type": "code",
   "execution_count": 16,
   "metadata": {},
   "outputs": [
    {
     "name": "stdout",
     "output_type": "stream",
     "text": [
      "0 of 83 paths evaluated\n",
      "1 of 83 paths evaluated\n",
      "2 of 83 paths evaluated\n",
      "3 of 83 paths evaluated\n",
      "4 of 83 paths evaluated\n",
      "5 of 83 paths evaluated\n",
      "6 of 83 paths evaluated\n",
      "7 of 83 paths evaluated\n",
      "8 of 83 paths evaluated\n",
      "9 of 83 paths evaluated\n",
      "10 of 83 paths evaluated\n",
      "11 of 83 paths evaluated\n",
      "12 of 83 paths evaluated\n",
      "13 of 83 paths evaluated\n",
      "14 of 83 paths evaluated\n",
      "15 of 83 paths evaluated\n",
      "16 of 83 paths evaluated\n",
      "17 of 83 paths evaluated\n",
      "18 of 83 paths evaluated\n",
      "19 of 83 paths evaluated\n",
      "20 of 83 paths evaluated\n",
      "21 of 83 paths evaluated\n",
      "22 of 83 paths evaluated\n",
      "23 of 83 paths evaluated\n",
      "24 of 83 paths evaluated\n",
      "25 of 83 paths evaluated\n",
      "26 of 83 paths evaluated\n",
      "27 of 83 paths evaluated\n",
      "28 of 83 paths evaluated\n",
      "29 of 83 paths evaluated\n",
      "30 of 83 paths evaluated\n",
      "31 of 83 paths evaluated\n",
      "32 of 83 paths evaluated\n",
      "33 of 83 paths evaluated\n",
      "34 of 83 paths evaluated\n",
      "35 of 83 paths evaluated\n",
      "36 of 83 paths evaluated\n",
      "37 of 83 paths evaluated\n",
      "38 of 83 paths evaluated\n",
      "39 of 83 paths evaluated\n",
      "40 of 83 paths evaluated\n",
      "41 of 83 paths evaluated\n",
      "42 of 83 paths evaluated\n",
      "43 of 83 paths evaluated\n",
      "44 of 83 paths evaluated\n",
      "45 of 83 paths evaluated\n",
      "46 of 83 paths evaluated\n",
      "47 of 83 paths evaluated\n",
      "48 of 83 paths evaluated\n",
      "49 of 83 paths evaluated\n",
      "50 of 83 paths evaluated\n",
      "51 of 83 paths evaluated\n",
      "52 of 83 paths evaluated\n",
      "53 of 83 paths evaluated\n",
      "54 of 83 paths evaluated\n",
      "55 of 83 paths evaluated\n",
      "56 of 83 paths evaluated\n",
      "57 of 83 paths evaluated\n",
      "58 of 83 paths evaluated\n",
      "59 of 83 paths evaluated\n",
      "60 of 83 paths evaluated\n",
      "61 of 83 paths evaluated\n",
      "62 of 83 paths evaluated\n",
      "63 of 83 paths evaluated\n",
      "64 of 83 paths evaluated\n",
      "65 of 83 paths evaluated\n",
      "66 of 83 paths evaluated\n",
      "67 of 83 paths evaluated\n",
      "68 of 83 paths evaluated\n",
      "69 of 83 paths evaluated\n",
      "70 of 83 paths evaluated\n",
      "71 of 83 paths evaluated\n",
      "72 of 83 paths evaluated\n",
      "73 of 83 paths evaluated\n",
      "74 of 83 paths evaluated\n",
      "75 of 83 paths evaluated\n",
      "76 of 83 paths evaluated\n",
      "77 of 83 paths evaluated\n",
      "78 of 83 paths evaluated\n",
      "79 of 83 paths evaluated\n",
      "80 of 83 paths evaluated\n",
      "81 of 83 paths evaluated\n",
      "82 of 83 paths evaluated\n"
     ]
    }
   ],
   "source": [
    "# ADD THOSE EDGES CORRESPONDING TO THE PATHS LINKING EDGES\n",
    "path_nodes = nodes_df[nodes_df['type_of_entity'].apply(lambda x: x=='path')]\n",
    "geom_paths = geom[geom['Layer'].apply(lambda x: x in set_paths)]\n",
    "for index in np.arange(len(geom_paths)):\n",
    "    print(\"{} of {} paths evaluated\".format(index,len(geom_paths)))     \n",
    "    element_to_evaluate = geom_paths['geometry'].iloc[index].coords\n",
    "    for index_e,point_e in enumerate(element_to_evaluate):\n",
    "        # EVERY NODE OF THE ELEMENT IS CHECKED TO BE IN THE NODES_DF LIST\n",
    "        node, node_in_list = check_point(point_e,path_nodes)\n",
    "        if not node_in_list:\n",
    "            print(\"Point_e is: {}\".format(point_e)) # every path node should have been added already to the list\n",
    "            print(\"NODE NOT FOUND\")\n",
    "        #IF NODE IS ALREADY CONTAINED, TAKE ITS ID\n",
    "        else:\n",
    "            id_curr_p = node[0]\n",
    "        #FOR EVERY LINE COMPOSING THE PATH, CREATE A LINK.\n",
    "        if index_e > 0:\n",
    "            point_from = nodes_df.loc[nodes_df['id']==str(id_prev_p)]\n",
    "            coords_from = [point_from['x'].values[0],point_from['y'].values[0],point_from['z'].values[0]]\n",
    "            distance = get_distance(coords_from,point_e)\n",
    "            edges_df = pd.concat([edges_df,create_edge(id_prev_p,id_curr_p,'VL'+str(len(edges_df)),distance)], ignore_index = True)\n",
    "        #SAVE THE INDEX TO CREATE THE EDGE WITH THE NEXT POINT OF THE PATH\n",
    "        id_prev_p = id_curr_p"
   ]
  },
  {
   "cell_type": "code",
   "execution_count": 17,
   "metadata": {},
   "outputs": [],
   "source": [
    "# SAVE THE NODES AND LINK TABLES IN CSV FILES\n",
    "nodes_df.to_csv('nodes_df.csv')\n",
    "edges_df.to_csv('edges_df.csv')"
   ]
  },
  {
   "cell_type": "code",
   "execution_count": 18,
   "metadata": {},
   "outputs": [
    {
     "name": "stdout",
     "output_type": "stream",
     "text": [
      "--- 119.55061173439026 seconds ---\n"
     ]
    }
   ],
   "source": [
    "print(\"--- {} seconds ---\".format(time.time() - start_time))"
   ]
  },
  {
   "cell_type": "markdown",
   "metadata": {},
   "source": [
    "## DEBUGGING STUFF"
   ]
  },
  {
   "cell_type": "code",
   "execution_count": null,
   "metadata": {},
   "outputs": [],
   "source": [
    "import geopandas as gpd"
   ]
  },
  {
   "cell_type": "code",
   "execution_count": null,
   "metadata": {},
   "outputs": [],
   "source": [
    "geom=gpd.read_file('geometry/220527-VOLPE Clean12.dxf')\n",
    "story = 31\n",
    "set_paths = {'STAIRS-PATH','ELEVATORS-PATH'}\n",
    "geom_paths = geom[geom['Layer'].apply(lambda x: x in set_paths)]\n",
    "\n"
   ]
  },
  {
   "cell_type": "code",
   "execution_count": null,
   "metadata": {},
   "outputs": [],
   "source": [
    "geom_paths"
   ]
  },
  {
   "cell_type": "code",
   "execution_count": null,
   "metadata": {},
   "outputs": [],
   "source": [
    "[z for x in geom_paths['geometry'] for z in x.coords if int(round(z[2],0))==(story*13)]"
   ]
  },
  {
   "cell_type": "code",
   "execution_count": null,
   "metadata": {},
   "outputs": [],
   "source": [
    "for x in geom_paths['geometry']:\n",
    "    for z in x.coords:\n",
    "        print(z)"
   ]
  },
  {
   "cell_type": "code",
   "execution_count": null,
   "metadata": {},
   "outputs": [],
   "source": [
    "geom_story = list_geoms[51]\n",
    "geom_landUses_complete = geom_story[geom_story['Layer'].apply(lambda x : x in set_landUses)]\n",
    "geom_landUses = geom_landUses_complete[geom_landUses_complete['geometry'].apply(lambda x : len(x.coords)>2)]\n",
    "geom_landUses['geometry'] =  geom_landUses['geometry'].apply(lambda x: Polygon(x.coords) if len(x.coords)>2 else x)\n",
    "geom_alleys = geom_story[geom_story['Layer'].apply(lambda x : x in set_alleys)]\n",
    "geom_vertical_mobility = geom_landUses[geom_landUses['Layer'].apply(lambda x : x in set_vertical_mobility)]\n",
    "geom_paths = geom[geom['Layer'].apply(lambda x: x in set_paths)]\n",
    "# CHANGE LINETRINGS FOR POLYGONS LANDUSES\n",
    "points_geom_paths_story = [z for x in geom_paths['geometry'] for z in x.coords if int(round(z[2],0))==(51*13)]\n",
    "not_contained_paths = []\n",
    "for index,coords in enumerate(points_geom_paths_story):\n",
    "        #if index%10 == 0: print(\"{} of {} elements evaluated\".format(index,len(points_geom_paths_story)))     \n",
    "        contained_in_p,index_p = check_point_polygons(coords,geom_vertical_mobility)\n",
    "        entity_handler_container = None\n",
    "        if(contained_in_p):\n",
    "            entity_handler_container = geom_landUses['EntityHandle'].iloc[index_p]\n",
    "        else: \n",
    "            #print(\"Path not contained: {}\".format(coords))\n",
    "            not_contained_paths.append(coords)\n",
    "if(len(not_contained_paths)>1): print(\"Non contained paths for story {} are: {}\".format(51,not_contained_paths))"
   ]
  },
  {
   "cell_type": "code",
   "execution_count": null,
   "metadata": {},
   "outputs": [],
   "source": [
    "geom_vertical_mobility.values[index_p]"
   ]
  },
  {
   "cell_type": "code",
   "execution_count": null,
   "metadata": {},
   "outputs": [],
   "source": [
    "# CREATE GEOMETRIES\n",
    "geom_story = list_geoms[51]\n",
    "geom_landUses_complete = geom_story[geom_story['Layer'].apply(lambda x : x in set_landUses)]\n",
    "geom_landUses = geom_landUses_complete[geom_landUses_complete['geometry'].apply(lambda x : len(x.coords)>2)]\n",
    "geom_landUses['geometry'] =  geom_landUses['geometry'].apply(lambda x: Polygon(x.coords) if len(x.coords)>2 else x)\n",
    "geom_alleys = geom_story[geom_story['Layer'].apply(lambda x : x in set_alleys)]\n",
    "geom_vertical_mobility = geom_landUses[geom_landUses['Layer'].apply(lambda x : x in set_vertical_mobility)]\n",
    "contained_in_p,index_p = check_point_polygons([768850.8833876338, 2958449.378691245, 663.0],geom_vertical_mobility)\n",
    "if(contained_in_p): print(geom_vertical_mobility.values[index_p])"
   ]
  },
  {
   "cell_type": "code",
   "execution_count": null,
   "metadata": {},
   "outputs": [],
   "source": [
    "# CREATE GEOMETRIES\n",
    "geom_story = list_geoms[51]\n",
    "geom_landUses_complete = geom_story[geom_story['Layer'].apply(lambda x : x in set_landUses)]\n",
    "geom_landUses = geom_landUses_complete[geom_landUses_complete['geometry'].apply(lambda x : len(x.coords)>2)]\n",
    "geom_landUses['geometry'] =  geom_landUses['geometry'].apply(lambda x: Polygon(x.coords) if len(x.coords)>2 else x)\n",
    "geom_alleys = geom_story[geom_story['Layer'].apply(lambda x : x in set_alleys)]\n",
    "# ADD ALLEYS TO THE LIST\n",
    "for index in np.arange(len(geom_alleys)):\n",
    "    #if index%10 == 0: print(\"{} of {} points from alleys evaluated\".format(index,len(geom_alleys)))     \n",
    "    element_to_evaluate = geom_alleys['geometry'].iloc[index].coords\n",
    "    for index_e,point_e in enumerate(element_to_evaluate):\n",
    "        # NODES ARE CHECKED TO BE IN ANY OF THE POLYGONS\n",
    "        geom_stairs_evaluate = geom_landUses[geom_landUses['EntityHandle']=='95CCE']\n",
    "        contained_in_p,index_p = check_point_polygons(point_e,geom_stairs_evaluate)\n",
    "        entity_handler_container = None\n",
    "        if(contained_in_p):\n",
    "            print(point_e)"
   ]
  },
  {
   "cell_type": "code",
   "execution_count": null,
   "metadata": {},
   "outputs": [],
   "source": [
    "geom_paths = geom[geom['Layer'].apply(lambda x: x in set_paths)]\n",
    "geom_paths_51 = geom_paths[geom_paths['geometry'].apply(lambda x: x.coords[0])]\n",
    "points_geom_paths_story = [z for x in geom_paths['geometry'] for z in x.coords if int(round(z[2],0))==(51*13)]\n"
   ]
  },
  {
   "cell_type": "code",
   "execution_count": null,
   "metadata": {},
   "outputs": [],
   "source": [
    "geom_paths['geometry']"
   ]
  },
  {
   "cell_type": "code",
   "execution_count": null,
   "metadata": {},
   "outputs": [],
   "source": [
    "set_not_found = {768205.4923148999,768213.401961236}"
   ]
  },
  {
   "cell_type": "code",
   "execution_count": null,
   "metadata": {},
   "outputs": [],
   "source": [
    "points_not_found = geom_paths[geom_paths['geometry'].apply(lambda x: x.coords[0])]"
   ]
  },
  {
   "cell_type": "code",
   "execution_count": null,
   "metadata": {},
   "outputs": [],
   "source": [
    "#ALLEY ELEVATOR 95D16\n",
    "geom_95D16 = geom[geom['EntityHandle']=='95D16']\n",
    "#geom_elevator_evaluate = geom_landUses[geom_landUses['EntityHandle']=='93948']"
   ]
  },
  {
   "cell_type": "code",
   "execution_count": null,
   "metadata": {},
   "outputs": [],
   "source": [
    "for element in geom_95D16['geometry'].iloc[0].coords:\n",
    "    contained_in_p,index_p = check_point_polygons(element,geom_landUses)\n",
    "    if(contained_in_p): print(geom_landUses.values[index_p])"
   ]
  }
 ],
 "metadata": {
  "interpreter": {
   "hash": "be53287269a5ba39de09c86689ae7b2e6bb81aa053a258a15039bccbb53c8d69"
  },
  "kernelspec": {
   "display_name": "Python 3.9.12 ('verticalCity')",
   "language": "python",
   "name": "python3"
  },
  "language_info": {
   "codemirror_mode": {
    "name": "ipython",
    "version": 3
   },
   "file_extension": ".py",
   "mimetype": "text/x-python",
   "name": "python",
   "nbconvert_exporter": "python",
   "pygments_lexer": "ipython3",
   "version": "3.9.12"
  },
  "orig_nbformat": 4
 },
 "nbformat": 4,
 "nbformat_minor": 2
}
