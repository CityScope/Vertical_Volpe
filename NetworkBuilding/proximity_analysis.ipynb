{
 "cells": [
  {
   "cell_type": "code",
   "execution_count": 1,
   "id": "6d900162-3239-48e1-86c7-af9abc24cc22",
   "metadata": {},
   "outputs": [],
   "source": [
    "import pandas as pd\n",
    "import pandana as pdna\n",
    "import numpy as np\n",
    "import json"
   ]
  },
  {
   "cell_type": "code",
   "execution_count": 2,
   "id": "acbca819-e10f-41f9-a206-a4fd98de7dc3",
   "metadata": {},
   "outputs": [],
   "source": [
    "nodes=pd.read_csv('nodes_wgs84.csv')\n",
    "nodes=nodes.set_index('id')"
   ]
  },
  {
   "cell_type": "code",
   "execution_count": 3,
   "id": "09217500-cd74-4e37-ac32-867327a0ce08",
   "metadata": {},
   "outputs": [],
   "source": [
    "edges=pd.read_csv('edges_df.csv')"
   ]
  },
  {
   "cell_type": "code",
   "execution_count": 4,
   "id": "e50e9a85-ea85-405f-9820-d4624fa61c61",
   "metadata": {},
   "outputs": [],
   "source": [
    "nodes['families']=nodes['type_of_entity']=='FAMILY_OCCUPANCY'\n",
    "nodes['non_family_hhs']=nodes['type_of_entity'].isin(\n",
    "    ['QUAD_OCCUPANCY', 'DUAL__OCCUPANCY', 'TRIPLE_OCCUPANCY', 'SINGLE_OCCUPANCY'])\n",
    "nodes['parks']=nodes['type_of_entity']=='PARKS'\n",
    "nodes['groceries']=nodes['type_of_entity'].isin(\n",
    "    ['GROCERY_OR_SUPERMARKET', 'CONVENIENCE_STORE'])\n",
    "nodes['services']=nodes['type_of_entity'].isin(\n",
    "    ['BANKS', 'LAUNDRY', 'HEALTH_CARE', 'LIBRARY'])\n",
    "nodes['eating']=nodes['type_of_entity'].isin(\n",
    "    ['CAFE', 'RESTAURANT'])\n",
    "nodes['bars']=nodes['type_of_entity'].isin(\n",
    "    ['BAR'])"
   ]
  },
  {
   "cell_type": "code",
   "execution_count": 5,
   "id": "4509f202-90c3-4fcc-bd92-7b90d17329a5",
   "metadata": {},
   "outputs": [],
   "source": [
    "max_dist=400\n",
    "targets={'parks':{'from':'families' }, \n",
    "         'groceries':{'from': 'families'}, \n",
    "         'services':{'from': 'families'}, \n",
    "         'eating':{'from': 'non_family_hhs'}, \n",
    "         'bars':{'from': 'non_family_hhs'}}\n",
    "target_list=list(targets.keys())"
   ]
  },
  {
   "cell_type": "code",
   "execution_count": 6,
   "id": "7da7cd93-eaca-415c-a9dd-16f68f5a25bb",
   "metadata": {},
   "outputs": [],
   "source": [
    "net=pdna.Network(node_x=nodes['lon'], \n",
    "                 node_y=nodes['lat'],\n",
    "                 edge_from=edges['from'], \n",
    "                 edge_to=edges['to'], \n",
    "                 edge_weights=edges[['distance']])"
   ]
  },
  {
   "cell_type": "markdown",
   "id": "1abadb67-3d8a-44a2-95e2-683b67ad7371",
   "metadata": {},
   "source": [
    "# Method 1\n",
    "### Get node to node distance matrix"
   ]
  },
  {
   "cell_type": "code",
   "execution_count": 7,
   "id": "a3d80ec5-215c-4b7b-80ee-6cfa259df650",
   "metadata": {},
   "outputs": [],
   "source": [
    "source_nodes=nodes.loc[nodes['type_of_entity'].str.contains('OCCUPANCY')].reset_index()"
   ]
  },
  {
   "cell_type": "code",
   "execution_count": 9,
   "id": "676c0d93-0914-49e6-b793-8ae126b09f1e",
   "metadata": {},
   "outputs": [],
   "source": [
    "nodes['is_target']=nodes[target_list].sum(axis=1)>0"
   ]
  },
  {
   "cell_type": "code",
   "execution_count": 10,
   "id": "5e000216-ec0b-4413-a8b0-37395e0bf082",
   "metadata": {},
   "outputs": [],
   "source": [
    "target_nodes=nodes.loc[nodes['is_target']]"
   ]
  },
  {
   "cell_type": "code",
   "execution_count": 14,
   "id": "d1d19a1c-47bc-4d2d-b257-a07a5fc37669",
   "metadata": {},
   "outputs": [],
   "source": [
    "dist_mat=[]\n",
    "for ind, row in source_nodes.iterrows():\n",
    "    dest_nodes=target_nodes.index\n",
    "    origin_nodes=[row['id']]*len(dest_nodes)\n",
    "    path_lengths=net.shortest_path_lengths(origin_nodes, dest_nodes)\n",
    "    dist_mat.append(list(path_lengths))"
   ]
  },
  {
   "cell_type": "code",
   "execution_count": 15,
   "id": "06f111f9-92b7-4c64-b44e-618ab23481ac",
   "metadata": {},
   "outputs": [],
   "source": [
    "dist_mat_np=np.array(dist_mat)"
   ]
  },
  {
   "cell_type": "code",
   "execution_count": 17,
   "id": "8fdd670f",
   "metadata": {},
   "outputs": [
    {
     "data": {
      "text/plain": [
       "array([[0, 0, 0, ..., 1, 1, 1],\n",
       "       [0, 0, 0, ..., 1, 1, 1],\n",
       "       [0, 0, 0, ..., 1, 1, 1],\n",
       "       ...,\n",
       "       [0, 0, 0, ..., 0, 0, 0],\n",
       "       [0, 0, 0, ..., 0, 0, 0],\n",
       "       [0, 0, 0, ..., 0, 0, 0]])"
      ]
     },
     "execution_count": 17,
     "metadata": {},
     "output_type": "execute_result"
    }
   ],
   "source": [
    "(dist_mat_np<max_dist).astype(int)"
   ]
  },
  {
   "cell_type": "code",
   "execution_count": 18,
   "id": "c78ab8be-983a-41ea-a988-8511f6c2d0ee",
   "metadata": {},
   "outputs": [],
   "source": [
    "reachable_mat=(dist_mat_np<max_dist).astype(int)\n",
    "access = np.dot(reachable_mat, np.array(target_nodes[target_list]).astype(int))\n",
    "access_df=pd.DataFrame(access, columns=[t+' prox' for t in target_list])\n",
    "for col in ['lon', 'lat', 'z']:\n",
    "    access_df[col]=list(source_nodes[col])\n",
    "# access_df=pd.concat([access_df, source_nodes[['lon', 'lat', 'z']]], axis=1,\n",
    "#                    ignore_index=True)"
   ]
  },
  {
   "cell_type": "code",
   "execution_count": 51,
   "id": "78503fcb-68e7-45f7-8919-7a8b4d1c73b1",
   "metadata": {},
   "outputs": [],
   "source": [
    "access_df.to_csv('prox_results_1.csv')"
   ]
  },
  {
   "cell_type": "code",
   "execution_count": 66,
   "id": "26be371c-d7e9-4d23-9149-375461630e00",
   "metadata": {},
   "outputs": [],
   "source": [
    "metrics={}\n",
    "for t in target_list:\n",
    "    from_places=targets[t]['from']\n",
    "    metrics[t]=(access_df[t+' prox']*source_nodes[from_places]).sum()/(\n",
    "        source_nodes[from_places].sum())"
   ]
  },
  {
   "cell_type": "markdown",
   "id": "f8f33e6c",
   "metadata": {},
   "source": [
    "#### Build a reachable matrix but with the ids to be used for the reachable matrix for the voxelized volpe (Generative tool)"
   ]
  },
  {
   "cell_type": "code",
   "execution_count": null,
   "id": "37f7c0b3",
   "metadata": {},
   "outputs": [],
   "source": [
    "dist_mat=[]\n",
    "temporal = ['Origins']\n",
    "temporal.extend(target_nodes.index)\n",
    "dist_mat.append(temporal)\n",
    "for ind, row in source_nodes.iterrows():\n",
    "    dest_nodes=target_nodes.index\n",
    "    origin_nodes=[row['id']]*len(dest_nodes)\n",
    "    path_lengths=net.shortest_path_lengths(origin_nodes, dest_nodes)\n",
    "    temporal = [row['id']]\n",
    "    temporal.extend(list(path_lengths))\n",
    "    dist_mat.append(temporal)"
   ]
  },
  {
   "cell_type": "code",
   "execution_count": null,
   "id": "7114776b",
   "metadata": {},
   "outputs": [],
   "source": [
    "reachable_mat = dist_mat.copy()"
   ]
  },
  {
   "cell_type": "code",
   "execution_count": null,
   "id": "c20e1912",
   "metadata": {},
   "outputs": [],
   "source": [
    "for row in range(1,len(source_nodes)+1):\n",
    "    for column in range(1,len(target_nodes)+1):\n",
    "        boolean = reachable_mat[row][column]<max_dist\n",
    "        if boolean == False:\n",
    "            reachable_mat[row][column] = 0\n",
    "        else:\n",
    "            reachable_mat[row][column] = 1"
   ]
  },
  {
   "cell_type": "code",
   "execution_count": null,
   "id": "cb134b91",
   "metadata": {},
   "outputs": [],
   "source": [
    "np.savetxt(\"reachable_mat.csv\",reachable_mat, fmt='%s', delimiter=\",\")"
   ]
  },
  {
   "cell_type": "code",
   "execution_count": null,
   "id": "5e1b239a",
   "metadata": {},
   "outputs": [],
   "source": [
    "# TO VERIFY THAT IT WAS PROPERLY CREATED\n",
    "reachable = (np.genfromtxt(\"reachable_mat.csv\", delimiter=\",\")).astype(int)"
   ]
  },
  {
   "cell_type": "markdown",
   "id": "b20d8cf5-112d-4e0b-b294-48d1492b9f85",
   "metadata": {},
   "source": [
    "### Method 2"
   ]
  },
  {
   "cell_type": "code",
   "execution_count": 24,
   "id": "9640da3c-6735-459c-8a50-f628b4280cbc",
   "metadata": {},
   "outputs": [],
   "source": [
    "for t in targets:\n",
    "    target_df=nodes.loc[nodes[t]]\n",
    "    net.set(target_df.index, variable=1, name=t)"
   ]
  },
  {
   "cell_type": "code",
   "execution_count": 25,
   "id": "422d82ab-a5d9-4adb-8b50-4878dce9b9ee",
   "metadata": {},
   "outputs": [],
   "source": [
    "prox_results={}\n",
    "for t in targets:\n",
    "    prox_results[t]=net.aggregate(400, type=\"sum\", decay=\"flat\", name=t)"
   ]
  },
  {
   "cell_type": "code",
   "execution_count": 26,
   "id": "9a616496-d582-413d-a1c9-93827fa20c45",
   "metadata": {},
   "outputs": [],
   "source": [
    "for t in prox_results:\n",
    "    nodes['{} prox'.format(t)]=prox_results[t]"
   ]
  },
  {
   "cell_type": "code",
   "execution_count": 27,
   "id": "02bb1afb-2e07-4f31-bb90-4086b10ec7a1",
   "metadata": {},
   "outputs": [],
   "source": [
    "nodes.to_csv('prox_results_2.csv')"
   ]
  }
 ],
 "metadata": {
  "interpreter": {
   "hash": "be53287269a5ba39de09c86689ae7b2e6bb81aa053a258a15039bccbb53c8d69"
  },
  "kernelspec": {
   "display_name": "Python 3.9.12 ('verticalCity')",
   "language": "python",
   "name": "python3"
  },
  "language_info": {
   "codemirror_mode": {
    "name": "ipython",
    "version": 3
   },
   "file_extension": ".py",
   "mimetype": "text/x-python",
   "name": "python",
   "nbconvert_exporter": "python",
   "pygments_lexer": "ipython3",
   "version": "3.9.12"
  }
 },
 "nbformat": 4,
 "nbformat_minor": 5
}
