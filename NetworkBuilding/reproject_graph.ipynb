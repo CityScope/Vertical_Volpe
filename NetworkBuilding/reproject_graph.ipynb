{
 "cells": [
  {
   "cell_type": "code",
   "execution_count": 1,
   "id": "7c5dfee2-68c4-4d99-9391-e234a58b1fce",
   "metadata": {},
   "outputs": [],
   "source": [
    "import pandas as pd\n",
    "import numpy as np\n",
    "import geopandas as gpd"
   ]
  },
  {
   "cell_type": "code",
   "execution_count": 2,
   "id": "c39f89e9-927d-46ac-959b-8dab75305372",
   "metadata": {},
   "outputs": [],
   "source": [
    "nodes=pd.read_csv('nodes_df.csv')\n",
    "edges=pd.read_csv('edges_df.csv')"
   ]
  },
  {
   "cell_type": "code",
   "execution_count": 3,
   "id": "5d7f24e7-b3bf-4c53-9b83-1ccc86ae646b",
   "metadata": {},
   "outputs": [],
   "source": [
    "nodes=nodes.set_index('id')"
   ]
  },
  {
   "cell_type": "code",
   "execution_count": 5,
   "id": "e83b9115-6c54-481e-be02-449d65b32a7c",
   "metadata": {},
   "outputs": [],
   "source": [
    "guide_point_id='0P463'\n",
    "guide_point_ll = [-71.087255, 42.364011]"
   ]
  },
  {
   "cell_type": "code",
   "execution_count": 7,
   "id": "7c6a013a-f633-4c5b-ba33-2a551423c07b",
   "metadata": {},
   "outputs": [],
   "source": [
    "guide_point_xy=nodes.loc[guide_point_id, ['x', 'y']]"
   ]
  },
  {
   "cell_type": "code",
   "execution_count": 9,
   "id": "af75062f-40e2-466b-b684-faebc90b2362",
   "metadata": {},
   "outputs": [],
   "source": [
    "guide_gdf=gpd.GeoDataFrame(data=[], geometry=gpd.points_from_xy(\n",
    "    x=[guide_point_ll[0]], y=[guide_point_ll[1]]), crs='EPSG:4326')"
   ]
  },
  {
   "cell_type": "code",
   "execution_count": 11,
   "id": "e3d6950f-f0ff-407b-bc56-978541e9aa69",
   "metadata": {},
   "outputs": [
    {
     "name": "stdout",
     "output_type": "stream",
     "text": [
      "19\n"
     ]
    }
   ],
   "source": [
    "utm_zone = int(np.floor((guide_point_ll[0] + 180) / 6) + 1)\n",
    "print(utm_zone)\n",
    "crs = f\"+proj=utm +zone={utm_zone} +ellps=WGS84 +datum=WGS84 +units=m +no_defs\""
   ]
  },
  {
   "cell_type": "code",
   "execution_count": 12,
   "id": "09ff9a56-aca7-4076-8de2-0e900e2d061d",
   "metadata": {},
   "outputs": [],
   "source": [
    "guide_gdf_proj=guide_gdf.to_crs(crs)\n",
    "guide_point_proj=guide_gdf_proj.iloc[0].geometry"
   ]
  },
  {
   "cell_type": "markdown",
   "id": "981b031f-de12-45f0-9d68-d055586d79c8",
   "metadata": {},
   "source": [
    "### Reset the zero to the guide point and convert measurements to meters"
   ]
  },
  {
   "cell_type": "code",
   "execution_count": 15,
   "id": "5ed06ac6-02bf-4a12-94b9-1e6f36dd5e78",
   "metadata": {},
   "outputs": [],
   "source": [
    "nodes['x_ref']=(nodes['x']-guide_point_xy['x'])*0.3048\n",
    "nodes['y_ref']=(nodes['y']-guide_point_xy['y'])*0.3048"
   ]
  },
  {
   "cell_type": "code",
   "execution_count": 16,
   "id": "9314f9ed-55ce-409b-a1d6-bfce7324403f",
   "metadata": {},
   "outputs": [],
   "source": [
    "nodes['x_proj']=nodes['x_ref']+guide_point_proj.x\n",
    "nodes['y_proj']=nodes['y_ref']+guide_point_proj.y"
   ]
  },
  {
   "cell_type": "code",
   "execution_count": 17,
   "id": "9a002f7e-ae1a-44c7-af6a-f45cee3271c3",
   "metadata": {},
   "outputs": [],
   "source": [
    "nodes_proj_gdf=gpd.GeoDataFrame(data=nodes, geometry=gpd.points_from_xy(\n",
    "    x=nodes['x_proj'], y=nodes['y_proj']), crs=crs)"
   ]
  },
  {
   "cell_type": "code",
   "execution_count": 18,
   "id": "fc0ba5ab-1e4b-48e3-9b53-ee2d3820231f",
   "metadata": {},
   "outputs": [],
   "source": [
    "nodes_wgs_gdf=nodes_proj_gdf.to_crs('EPSG:4326')"
   ]
  },
  {
   "cell_type": "code",
   "execution_count": 19,
   "id": "cec805d5-92a0-445b-bf2e-7baa00b33c04",
   "metadata": {},
   "outputs": [
    {
     "name": "stderr",
     "output_type": "stream",
     "text": [
      "C:\\Users\\adminlocal\\AppData\\Local\\Temp\\ipykernel_3796\\3753745346.py:1: UserWarning: Geometry is in a geographic CRS. Results from 'centroid' are likely incorrect. Use 'GeoSeries.to_crs()' to re-project geometries to a projected CRS before this operation.\n",
      "\n",
      "  centroid=nodes_wgs_gdf.centroid\n"
     ]
    }
   ],
   "source": [
    "centroid=nodes_wgs_gdf.centroid\n",
    "nodes_wgs_gdf['lon']=[c.x for c in centroid]\n",
    "nodes_wgs_gdf['lat']=[c.y for c in centroid]"
   ]
  },
  {
   "cell_type": "code",
   "execution_count": 20,
   "id": "d41e6cb2-326a-44f6-b1a1-37261695367b",
   "metadata": {},
   "outputs": [],
   "source": [
    "nodes_wgs_gdf[['lon', 'lat', 'z', 'type_of_entity', 'EntityHandle']].to_csv('nodes_wgs84.csv')"
   ]
  }
 ],
 "metadata": {
  "interpreter": {
   "hash": "be53287269a5ba39de09c86689ae7b2e6bb81aa053a258a15039bccbb53c8d69"
  },
  "kernelspec": {
   "display_name": "Python 3.9.12 ('verticalCity')",
   "language": "python",
   "name": "python3"
  },
  "language_info": {
   "codemirror_mode": {
    "name": "ipython",
    "version": 3
   },
   "file_extension": ".py",
   "mimetype": "text/x-python",
   "name": "python",
   "nbconvert_exporter": "python",
   "pygments_lexer": "ipython3",
   "version": "3.9.12"
  }
 },
 "nbformat": 4,
 "nbformat_minor": 5
}
