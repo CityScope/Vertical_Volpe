{
 "cells": [
  {
   "cell_type": "code",
   "execution_count": 1,
   "id": "87a1cefc-f030-46bb-b19c-fe5caf31ebdd",
   "metadata": {},
   "outputs": [],
   "source": [
    "import geopandas as gpd\n",
    "from shapely.geometry import Point, Polygon"
   ]
  },
  {
   "cell_type": "markdown",
   "id": "c0ba4db0-9118-4003-929a-931bf334aea9",
   "metadata": {},
   "source": [
    "# Using DFX"
   ]
  },
  {
   "cell_type": "code",
   "execution_count": 2,
   "id": "e87b9d75-49cb-4f64-bbe5-8afdeef0de53",
   "metadata": {},
   "outputs": [],
   "source": [
    "geom=gpd.read_file('geometry/220527-VOLPE Clean12.dxf')"
   ]
  },
  {
   "cell_type": "code",
   "execution_count": 48,
   "id": "6f768edf",
   "metadata": {},
   "outputs": [
    {
     "name": "stdout",
     "output_type": "stream",
     "text": [
      "There is a total of 34 uses of land\n",
      "The unique uses of the land are: ['BUILDING' 'CITY' '0' '0POINT' 'ELEVATORS' 'STAIRS' 'PARKS' 'OFFICES'\n",
      " 'BANKS' 'LIBRARY' 'HEALTH_CARE' 'LAUNDRY' 'RESTAURANT' 'CAFE' 'BAR'\n",
      " 'ALLEY-ELEVATOR' 'BIKE_LINE' 'ALLEY1' 'ELEVATORS-PATH' 'STAIRS-PATH'\n",
      " 'SCHOOL' 'CONVENIENCE_STORE' 'GROCERY_OR_SUPERMARKET' 'HOME_GOODS_STORE'\n",
      " 'FURNITURE_STORE' 'PHARMACY' 'PROFESSIONAL_SERVICES'\n",
      " 'LEISURE_AND_WELLNESS' 'RAMP' 'FAMILY_OCCUPANCY' 'DUAL__OCCUPANCY'\n",
      " 'TRIPLE_OCCUPANCY' 'QUAD_OCCUPANCY' 'SINGLE_OCCUPANCY']\n"
     ]
    }
   ],
   "source": [
    "nodes_uses = geom['Layer'].unique()\n",
    "print(\"There is a total of {} uses of land\".format(len(nodes_uses)))\n",
    "print(\"The unique uses of the land are: {}\".format(nodes_uses))\n"
   ]
  },
  {
   "cell_type": "code",
   "execution_count": 4,
   "id": "638cb7d9",
   "metadata": {},
   "outputs": [
    {
     "name": "stderr",
     "output_type": "stream",
     "text": [
      "c:\\Users\\adminlocal\\anaconda3\\envs\\verticalCity\\lib\\site-packages\\geopandas\\io\\file.py:299: FutureWarning: pandas.Int64Index is deprecated and will be removed from pandas in a future version. Use pandas.Index with the appropriate dtype instead.\n",
      "  pd.Int64Index,\n"
     ]
    }
   ],
   "source": [
    "#SAVE GEOM IN GEOJSON\n",
    "import numpy as np\n",
    "utm_zone = int(np.floor((-71 + 180) / 6) + 1)\n",
    "crs = f\"+proj=utm +zone={utm_zone} +ellps=WGS84 +datum=WGS84 +units=m +no_defs\"\n",
    "geom.crs=crs\n",
    "geom=geom.to_crs('EPSG:4326')\n",
    "geom.to_file('geom12.geojson',driver='GeoJSON')"
   ]
  },
  {
   "cell_type": "markdown",
   "id": "78755b2e",
   "metadata": {},
   "source": [
    "## OLD PROCESS"
   ]
  },
  {
   "cell_type": "code",
   "execution_count": null,
   "id": "8fb8d17e-7810-45af-9919-4516560e5ed6",
   "metadata": {},
   "outputs": [],
   "source": [
    "import numpy as np\n",
    "utm_zone = int(np.floor((-71 + 180) / 6) + 1)\n",
    "crs = f\"+proj=utm +zone={utm_zone} +ellps=WGS84 +datum=WGS84 +units=m +no_defs\""
   ]
  },
  {
   "cell_type": "code",
   "execution_count": null,
   "id": "64099fb1-b979-4b7d-a9d7-d165073016b5",
   "metadata": {},
   "outputs": [
    {
     "data": {
      "text/plain": [
       "19"
      ]
     },
     "execution_count": 49,
     "metadata": {},
     "output_type": "execute_result"
    }
   ],
   "source": [
    "utm_zone"
   ]
  },
  {
   "cell_type": "code",
   "execution_count": null,
   "id": "1a354f5d-d1a5-489d-8be3-5218428e2a2b",
   "metadata": {},
   "outputs": [],
   "source": [
    "geom.crs=crs"
   ]
  },
  {
   "cell_type": "code",
   "execution_count": null,
   "id": "0a23e123-604b-4c06-a1c8-1917496c4f93",
   "metadata": {},
   "outputs": [],
   "source": [
    "geom=geom.to_crs('EPSG:4326')"
   ]
  },
  {
   "cell_type": "code",
   "execution_count": null,
   "id": "046ed5ce",
   "metadata": {},
   "outputs": [
    {
     "data": {
      "text/html": [
       "<div>\n",
       "<style scoped>\n",
       "    .dataframe tbody tr th:only-of-type {\n",
       "        vertical-align: middle;\n",
       "    }\n",
       "\n",
       "    .dataframe tbody tr th {\n",
       "        vertical-align: top;\n",
       "    }\n",
       "\n",
       "    .dataframe thead th {\n",
       "        text-align: right;\n",
       "    }\n",
       "</style>\n",
       "<table border=\"1\" class=\"dataframe\">\n",
       "  <thead>\n",
       "    <tr style=\"text-align: right;\">\n",
       "      <th></th>\n",
       "      <th>Layer</th>\n",
       "      <th>PaperSpace</th>\n",
       "      <th>SubClasses</th>\n",
       "      <th>Linetype</th>\n",
       "      <th>EntityHandle</th>\n",
       "      <th>Text</th>\n",
       "      <th>geometry</th>\n",
       "    </tr>\n",
       "  </thead>\n",
       "  <tbody>\n",
       "  </tbody>\n",
       "</table>\n",
       "</div>"
      ],
      "text/plain": [
       "Empty GeoDataFrame\n",
       "Columns: [Layer, PaperSpace, SubClasses, Linetype, EntityHandle, Text, geometry]\n",
       "Index: []"
      ]
     },
     "execution_count": 59,
     "metadata": {},
     "output_type": "execute_result"
    }
   ],
   "source": [
    "geom.head(0)"
   ]
  },
  {
   "cell_type": "code",
   "execution_count": null,
   "id": "4a0acf6c",
   "metadata": {},
   "outputs": [
    {
     "data": {
      "text/plain": [
       "geopandas.geodataframe.GeoDataFrame"
      ]
     },
     "execution_count": 63,
     "metadata": {},
     "output_type": "execute_result"
    }
   ],
   "source": [
    "type(geom)"
   ]
  },
  {
   "cell_type": "code",
   "execution_count": null,
   "id": "38b985a5-5e2d-423c-ac94-b773f0e1e615",
   "metadata": {},
   "outputs": [],
   "source": [
    "geom.to_file('geom.geojson',driver='GeoJSON')"
   ]
  },
  {
   "cell_type": "markdown",
   "id": "478bd4dc",
   "metadata": {},
   "source": [
    "## EXTRA OPTIONS"
   ]
  },
  {
   "cell_type": "code",
   "execution_count": null,
   "id": "c1ecf579",
   "metadata": {},
   "outputs": [],
   "source": [
    "#GET GEOMETRY WITH MOBILITY PATHS\n",
    "#set_landUses = {'STAIRS','ALLEY1','ALLEY-ELEVATOR','ELEVATORS-PATH','STAIRS-PATH','RAMP','ELEVATORS','PARKS'}\n",
    "set_landUses = {'ALLEY-ELEVATOR'}\n",
    "geom_mobility = geom[geom['Layer'].apply(lambda x : x in set_landUses)]\n",
    "geom_mobility_11 = geom_mobility[geom_mobility['geometry'].apply(lambda x : round(x.coords[0][2])==143)]\n",
    "set_entityHandle = {'95C6F'}\n",
    "geom_95CCE = geom[geom['EntityHandle'].apply(lambda x : x in set_entityHandle)]"
   ]
  },
  {
   "cell_type": "code",
   "execution_count": null,
   "id": "97097876",
   "metadata": {},
   "outputs": [],
   "source": [
    "geom_to_save = geom_mobility_11.append(geom_95CCE)"
   ]
  },
  {
   "cell_type": "code",
   "execution_count": null,
   "id": "8f124b57",
   "metadata": {},
   "outputs": [],
   "source": [
    "#SAVE MOBILITY PATHS IN GEOJSON\n",
    "import numpy as np\n",
    "utm_zone = int(np.floor((-71 + 180) / 6) + 1)\n",
    "crs = f\"+proj=utm +zone={utm_zone} +ellps=WGS84 +datum=WGS84 +units=m +no_defs\"\n",
    "geom_to_save.crs=crs\n",
    "geom_to_save=geom_to_save.to_crs('EPSG:4326')\n",
    "geom_to_save.to_file('geom_12.geojson',driver='GeoJSON')"
   ]
  },
  {
   "cell_type": "code",
   "execution_count": null,
   "id": "84280fec",
   "metadata": {},
   "outputs": [],
   "source": [
    "import numpy as np\n",
    "#SAVE SPECIFIC FLOOR\n",
    "geom_11 = geom[geom['geometry'].apply(lambda x : round(x.coords[0][2],0)==143)]\n",
    "utm_zone = int(np.floor((-71 + 180) / 6) + 1)\n",
    "crs = f\"+proj=utm +zone={utm_zone} +ellps=WGS84 +datum=WGS84 +units=m +no_defs\"\n",
    "geom_11.crs=crs\n",
    "geom_11=geom_11.to_crs('EPSG:4326')\n",
    "geom_11.to_file('geom_11.geojson',driver='GeoJSON')"
   ]
  }
 ],
 "metadata": {
  "interpreter": {
   "hash": "be53287269a5ba39de09c86689ae7b2e6bb81aa053a258a15039bccbb53c8d69"
  },
  "kernelspec": {
   "display_name": "Python 3.9.12 ('verticalCity')",
   "language": "python",
   "name": "python3"
  },
  "language_info": {
   "codemirror_mode": {
    "name": "ipython",
    "version": 3
   },
   "file_extension": ".py",
   "mimetype": "text/x-python",
   "name": "python",
   "nbconvert_exporter": "python",
   "pygments_lexer": "ipython3",
   "version": "3.9.12"
  }
 },
 "nbformat": 4,
 "nbformat_minor": 5
}
