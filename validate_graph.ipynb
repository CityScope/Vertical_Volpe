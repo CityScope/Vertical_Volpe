{
 "cells": [
  {
   "cell_type": "code",
   "execution_count": 152,
   "id": "555c441c-d417-4e76-bb02-2b774a14a9dd",
   "metadata": {},
   "outputs": [],
   "source": [
    "import pandas as pd\n"
   ]
  },
  {
   "cell_type": "code",
   "execution_count": 153,
   "id": "3d5b4831-7faf-464b-b519-b87d0ca597c4",
   "metadata": {},
   "outputs": [],
   "source": [
    "nodes=pd.read_csv('nodes_df.csv')"
   ]
  },
  {
   "cell_type": "code",
   "execution_count": 154,
   "id": "dd929bbc-af34-4501-b5af-b52b266d734a",
   "metadata": {},
   "outputs": [],
   "source": [
    "nodes=nodes.set_index('id')"
   ]
  },
  {
   "cell_type": "code",
   "execution_count": 155,
   "id": "3155ed4a-4d9d-4f4d-b995-11829ea6001b",
   "metadata": {},
   "outputs": [],
   "source": [
    "edges=pd.read_csv('edges_df.csv')"
   ]
  },
  {
   "cell_type": "code",
   "execution_count": 159,
   "id": "db1cbbc5-442d-46f5-bed0-c4765e41d6e5",
   "metadata": {},
   "outputs": [],
   "source": [
    "import networkx as nx\n",
    "G=nx.Graph()"
   ]
  },
  {
   "cell_type": "code",
   "execution_count": 160,
   "id": "9355673c-e2ab-4c86-9dbe-fe4b4d2387b9",
   "metadata": {},
   "outputs": [],
   "source": [
    "for ind, row in edges.iterrows():\n",
    "    G.add_edge(row['from'], row['to'])"
   ]
  },
  {
   "cell_type": "code",
   "execution_count": 161,
   "id": "ca1caabd-23ad-4d76-9e1d-16a4942683da",
   "metadata": {},
   "outputs": [],
   "source": [
    "components=[c for c in sorted(nx.connected_components(G), key=len, reverse=True)]"
   ]
  },
  {
   "cell_type": "code",
   "execution_count": 162,
   "id": "f995c20a-25b5-4277-8d33-7a5e20e93738",
   "metadata": {},
   "outputs": [
    {
     "name": "stdout",
     "output_type": "stream",
     "text": [
      "66513\n"
     ]
    }
   ],
   "source": [
    "# \n",
    "for c in components:\n",
    "     print(len(c))"
   ]
  },
  {
   "cell_type": "code",
   "execution_count": 163,
   "id": "3ead1c73-186d-4319-a75b-437b3399f9a9",
   "metadata": {},
   "outputs": [],
   "source": [
    "# all_disconnected_nodes=[]\n",
    "# for c in components[1:]:\n",
    "#     all_disconnected_nodes.extend(list(c))"
   ]
  },
  {
   "cell_type": "code",
   "execution_count": 164,
   "id": "75686e1d-c5ae-4bad-b1cd-66ac00a5ea5d",
   "metadata": {},
   "outputs": [],
   "source": [
    "nodes['component']=0\n",
    "for i, c in enumerate(components):\n",
    "    nodes.loc[list(c), 'component']='c'+str(i)"
   ]
  },
  {
   "cell_type": "markdown",
   "id": "079b0803-2b9d-4231-a89b-e4ae03e7d93e",
   "metadata": {},
   "source": [
    "# Create Fake WGS model"
   ]
  },
  {
   "cell_type": "code",
   "execution_count": 165,
   "id": "9c4e1756-723c-4dc8-a465-add8683fb242",
   "metadata": {},
   "outputs": [],
   "source": [
    "import numpy as np\n",
    "utm_zone = int(np.floor((-71 + 180) / 6) + 1)\n",
    "crs = f\"+proj=utm +zone={utm_zone} +ellps=WGS84 +datum=WGS84 +units=m +no_defs\""
   ]
  },
  {
   "cell_type": "code",
   "execution_count": 166,
   "id": "a94221b9-9363-4ba3-92d3-d79a1de2e39c",
   "metadata": {},
   "outputs": [],
   "source": [
    "import geopandas as gpd\n",
    "nodes_gdf=gpd.GeoDataFrame(data=nodes, geometry=gpd.points_from_xy(\n",
    "    x=nodes['x'], y=nodes['y'], z=nodes['z'], crs=crs))"
   ]
  },
  {
   "cell_type": "code",
   "execution_count": 167,
   "id": "bd58fc02-e85e-44d8-8b30-64deb0d58c98",
   "metadata": {},
   "outputs": [],
   "source": [
    "nodes_gdf_wgs_fake=nodes_gdf.to_crs('EPSG:4326')"
   ]
  },
  {
   "cell_type": "code",
   "execution_count": 168,
   "id": "f0702c4d-e9a7-4b49-b25e-3378c4892083",
   "metadata": {},
   "outputs": [],
   "source": [
    "nodes_gdf_wgs_fake.to_file('nodes_gdf_wgs_fake.geojson',driver='GeoJSON')"
   ]
  },
  {
   "cell_type": "code",
   "execution_count": 169,
   "id": "4b67ca21-87f1-4dad-bb0c-3a489a8e904d",
   "metadata": {},
   "outputs": [
    {
     "name": "stderr",
     "output_type": "stream",
     "text": [
      "C:\\Users\\adminlocal\\AppData\\Local\\Temp\\ipykernel_22144\\1538748961.py:1: UserWarning: Geometry is in a geographic CRS. Results from 'centroid' are likely incorrect. Use 'GeoSeries.to_crs()' to re-project geometries to a projected CRS before this operation.\n",
      "\n",
      "  centroids=nodes_gdf_wgs_fake.geometry.centroid\n"
     ]
    }
   ],
   "source": [
    "centroids=nodes_gdf_wgs_fake.geometry.centroid\n",
    "nodes_gdf_wgs_fake['lon']=[c.x for c in centroids]\n",
    "nodes_gdf_wgs_fake['lat']=[c.y for c in centroids]"
   ]
  },
  {
   "cell_type": "code",
   "execution_count": null,
   "id": "37a29278-cb56-458d-8626-a358831a3cc0",
   "metadata": {},
   "outputs": [],
   "source": [
    "edges=edges.merge(nodes_gdf_wgs_fake[['lon', 'lat', 'z']], \n",
    "                  left_on='from', right_index=True,\n",
    "                 how='left').rename(columns={ 'lon': 'from_lon', 'lat': 'from_lat', 'z': 'from_z'})\n",
    "\n",
    "edges=edges.merge(nodes_gdf_wgs_fake[['lon', 'lat', 'z']], \n",
    "                  left_on='to', right_index=True,\n",
    "                 how='left').rename(columns={ 'lon': 'to_lon', 'lat': 'to_lat', 'z': 'to_z'})"
   ]
  },
  {
   "cell_type": "code",
   "execution_count": null,
   "id": "716ca6c6-e036-4306-b876-23e9af0eb63a",
   "metadata": {},
   "outputs": [],
   "source": [
    "edges[['from_lon','from_lat','from_z','to_lon','to_lat','to_z','id']\n",
    "     ].to_csv('edges_fake_wgs.csv')"
   ]
  }
 ],
 "metadata": {
  "interpreter": {
   "hash": "be53287269a5ba39de09c86689ae7b2e6bb81aa053a258a15039bccbb53c8d69"
  },
  "kernelspec": {
   "display_name": "Python 3.9.12 ('verticalCity')",
   "language": "python",
   "name": "python3"
  },
  "language_info": {
   "codemirror_mode": {
    "name": "ipython",
    "version": 3
   },
   "file_extension": ".py",
   "mimetype": "text/x-python",
   "name": "python",
   "nbconvert_exporter": "python",
   "pygments_lexer": "ipython3",
   "version": "3.9.12"
  }
 },
 "nbformat": 4,
 "nbformat_minor": 5
}
