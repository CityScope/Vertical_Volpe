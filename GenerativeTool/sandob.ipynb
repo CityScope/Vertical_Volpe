{
 "cells": [
  {
   "cell_type": "code",
   "execution_count": 8,
   "metadata": {},
   "outputs": [],
   "source": [
    "import numpy as np\n",
    "dist_mat =[[0,0,0],[1,1,1],[2,2,2]]\n",
    "dist_mat_np=np.array(dist_mat)"
   ]
  },
  {
   "cell_type": "code",
   "execution_count": 9,
   "metadata": {},
   "outputs": [
    {
     "data": {
      "text/plain": [
       "array([[0, 0, 0],\n",
       "       [1, 1, 1],\n",
       "       [2, 2, 2]])"
      ]
     },
     "execution_count": 9,
     "metadata": {},
     "output_type": "execute_result"
    }
   ],
   "source": [
    "dist_mat_np"
   ]
  },
  {
   "cell_type": "code",
   "execution_count": 10,
   "metadata": {},
   "outputs": [
    {
     "ename": "TypeError",
     "evalue": "_vhstack_dispatcher() takes 1 positional argument but 2 were given",
     "output_type": "error",
     "traceback": [
      "\u001b[1;31m---------------------------------------------------------------------------\u001b[0m",
      "\u001b[1;31mTypeError\u001b[0m                                 Traceback (most recent call last)",
      "\u001b[1;32mc:\\Users\\adminlocal\\Documents\\WorkspacesPython\\GenerativeTool\\sandob.ipynb Cell 3'\u001b[0m in \u001b[0;36m<cell line: 3>\u001b[1;34m()\u001b[0m\n\u001b[0;32m      <a href='vscode-notebook-cell:/c%3A/Users/adminlocal/Documents/WorkspacesPython/GenerativeTool/sandob.ipynb#ch0000002?line=0'>1</a>\u001b[0m column \u001b[39m=\u001b[39m np\u001b[39m.\u001b[39marray([\u001b[39m'\u001b[39m\u001b[39miwf\u001b[39m\u001b[39m'\u001b[39m,\u001b[39m'\u001b[39m\u001b[39miwfh\u001b[39m\u001b[39m'\u001b[39m,\u001b[39m'\u001b[39m\u001b[39mwifn\u001b[39m\u001b[39m'\u001b[39m])\n\u001b[0;32m      <a href='vscode-notebook-cell:/c%3A/Users/adminlocal/Documents/WorkspacesPython/GenerativeTool/sandob.ipynb#ch0000002?line=1'>2</a>\u001b[0m column \u001b[39m=\u001b[39m column\u001b[39m.\u001b[39mreshape(\u001b[39m3\u001b[39m,\u001b[39m1\u001b[39m)\n\u001b[1;32m----> <a href='vscode-notebook-cell:/c%3A/Users/adminlocal/Documents/WorkspacesPython/GenerativeTool/sandob.ipynb#ch0000002?line=2'>3</a>\u001b[0m all_data \u001b[39m=\u001b[39m np\u001b[39m.\u001b[39;49mhstack((dist_mat_np, column),\u001b[39m0\u001b[39;49m)\n",
      "File \u001b[1;32m<__array_function__ internals>:4\u001b[0m, in \u001b[0;36mhstack\u001b[1;34m(*args, **kwargs)\u001b[0m\n",
      "\u001b[1;31mTypeError\u001b[0m: _vhstack_dispatcher() takes 1 positional argument but 2 were given"
     ]
    }
   ],
   "source": [
    "column = np.array(['iwf','iwfh','wifn'])\n",
    "column = column.reshape(3,1)\n",
    "all_data = np.hstack((dist_mat_np, column),0)"
   ]
  },
  {
   "cell_type": "code",
   "execution_count": 11,
   "metadata": {},
   "outputs": [
    {
     "ename": "ValueError",
     "evalue": "invalid literal for int() with base 10: 'iwf'",
     "output_type": "error",
     "traceback": [
      "\u001b[1;31m---------------------------------------------------------------------------\u001b[0m",
      "\u001b[1;31mValueError\u001b[0m                                Traceback (most recent call last)",
      "\u001b[1;32mc:\\Users\\adminlocal\\Documents\\WorkspacesPython\\GenerativeTool\\sandob.ipynb Cell 4'\u001b[0m in \u001b[0;36m<cell line: 1>\u001b[1;34m()\u001b[0m\n\u001b[1;32m----> <a href='vscode-notebook-cell:/c%3A/Users/adminlocal/Documents/WorkspacesPython/GenerativeTool/sandob.ipynb#ch0000003?line=0'>1</a>\u001b[0m np\u001b[39m.\u001b[39;49minsert(dist_mat_np,\u001b[39m0\u001b[39;49m,[\u001b[39m'\u001b[39;49m\u001b[39miwf\u001b[39;49m\u001b[39m'\u001b[39;49m,\u001b[39m'\u001b[39;49m\u001b[39miwfh\u001b[39;49m\u001b[39m'\u001b[39;49m,\u001b[39m'\u001b[39;49m\u001b[39mwifn\u001b[39;49m\u001b[39m'\u001b[39;49m],axis\u001b[39m=\u001b[39;49m\u001b[39m1\u001b[39;49m)\n",
      "File \u001b[1;32m<__array_function__ internals>:5\u001b[0m, in \u001b[0;36minsert\u001b[1;34m(*args, **kwargs)\u001b[0m\n",
      "File \u001b[1;32mc:\\Users\\adminlocal\\anaconda3\\envs\\verticalCity\\lib\\site-packages\\numpy\\lib\\function_base.py:4712\u001b[0m, in \u001b[0;36minsert\u001b[1;34m(arr, obj, values, axis)\u001b[0m\n\u001b[0;32m   4708\u001b[0m     index \u001b[39m+\u001b[39m\u001b[39m=\u001b[39m N\n\u001b[0;32m   4710\u001b[0m \u001b[39m# There are some object array corner cases here, but we cannot avoid\u001b[39;00m\n\u001b[0;32m   4711\u001b[0m \u001b[39m# that:\u001b[39;00m\n\u001b[1;32m-> 4712\u001b[0m values \u001b[39m=\u001b[39m array(values, copy\u001b[39m=\u001b[39;49m\u001b[39mFalse\u001b[39;49;00m, ndmin\u001b[39m=\u001b[39;49marr\u001b[39m.\u001b[39;49mndim, dtype\u001b[39m=\u001b[39;49marr\u001b[39m.\u001b[39;49mdtype)\n\u001b[0;32m   4713\u001b[0m \u001b[39mif\u001b[39;00m indices\u001b[39m.\u001b[39mndim \u001b[39m==\u001b[39m \u001b[39m0\u001b[39m:\n\u001b[0;32m   4714\u001b[0m     \u001b[39m# broadcasting is very different here, since a[:,0,:] = ... behaves\u001b[39;00m\n\u001b[0;32m   4715\u001b[0m     \u001b[39m# very different from a[:,[0],:] = ...! This changes values so that\u001b[39;00m\n\u001b[0;32m   4716\u001b[0m     \u001b[39m# it works likes the second case. (here a[:,0:1,:])\u001b[39;00m\n\u001b[0;32m   4717\u001b[0m     values \u001b[39m=\u001b[39m np\u001b[39m.\u001b[39mmoveaxis(values, \u001b[39m0\u001b[39m, axis)\n",
      "\u001b[1;31mValueError\u001b[0m: invalid literal for int() with base 10: 'iwf'"
     ]
    }
   ],
   "source": [
    "np.insert(dist_mat_np,0,['iwf','iwfh','wifn'],axis=1)"
   ]
  }
 ],
 "metadata": {
  "kernelspec": {
   "display_name": "Python 3.9.12 ('verticalCity')",
   "language": "python",
   "name": "python3"
  },
  "language_info": {
   "codemirror_mode": {
    "name": "ipython",
    "version": 3
   },
   "file_extension": ".py",
   "mimetype": "text/x-python",
   "name": "python",
   "nbconvert_exporter": "python",
   "pygments_lexer": "ipython3",
   "version": "3.9.12"
  },
  "orig_nbformat": 4,
  "vscode": {
   "interpreter": {
    "hash": "be53287269a5ba39de09c86689ae7b2e6bb81aa053a258a15039bccbb53c8d69"
   }
  }
 },
 "nbformat": 4,
 "nbformat_minor": 2
}
