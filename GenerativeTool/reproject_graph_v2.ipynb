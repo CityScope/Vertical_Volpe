{
 "cells": [
  {
   "cell_type": "code",
   "execution_count": 2,
   "id": "7c5dfee2-68c4-4d99-9391-e234a58b1fce",
   "metadata": {},
   "outputs": [],
   "source": [
    "import pandas as pd\n",
    "import numpy as np\n",
    "import geopandas as gpd"
   ]
  },
  {
   "cell_type": "code",
   "execution_count": 3,
   "id": "c39f89e9-927d-46ac-959b-8dab75305372",
   "metadata": {},
   "outputs": [],
   "source": [
    "nodes=pd.read_csv('nodes_df.csv')\n",
    "edges=pd.read_csv('edges_df.csv')"
   ]
  },
  {
   "cell_type": "code",
   "execution_count": 4,
   "id": "5d7f24e7-b3bf-4c53-9b83-1ccc86ae646b",
   "metadata": {},
   "outputs": [],
   "source": [
    "nodes=nodes.set_index('id')"
   ]
  },
  {
   "cell_type": "code",
   "execution_count": 5,
   "id": "e83b9115-6c54-481e-be02-449d65b32a7c",
   "metadata": {},
   "outputs": [],
   "source": [
    "guide_point_id='0P463'\n",
    "guide_point_ll = [-71.087255, 42.364011]"
   ]
  },
  {
   "cell_type": "code",
   "execution_count": 6,
   "id": "7c6a013a-f633-4c5b-ba33-2a551423c07b",
   "metadata": {},
   "outputs": [],
   "source": [
    "guide_point_xy=nodes.loc[guide_point_id, ['x', 'y']]"
   ]
  },
  {
   "cell_type": "code",
   "execution_count": 7,
   "id": "af75062f-40e2-466b-b684-faebc90b2362",
   "metadata": {},
   "outputs": [],
   "source": [
    "guide_gdf=gpd.GeoDataFrame(data=[], geometry=gpd.points_from_xy(\n",
    "    x=[guide_point_ll[0]], y=[guide_point_ll[1]]), crs='EPSG:4326')"
   ]
  },
  {
   "cell_type": "code",
   "execution_count": 8,
   "id": "e3d6950f-f0ff-407b-bc56-978541e9aa69",
   "metadata": {},
   "outputs": [
    {
     "name": "stdout",
     "output_type": "stream",
     "text": [
      "19\n"
     ]
    }
   ],
   "source": [
    "utm_zone = int(np.floor((guide_point_ll[0] + 180) / 6) + 1)\n",
    "print(utm_zone)\n",
    "crs = f\"+proj=utm +zone={utm_zone} +ellps=WGS84 +datum=WGS84 +units=m +no_defs\""
   ]
  },
  {
   "cell_type": "code",
   "execution_count": 9,
   "id": "09ff9a56-aca7-4076-8de2-0e900e2d061d",
   "metadata": {},
   "outputs": [],
   "source": [
    "guide_gdf_proj=guide_gdf.to_crs(crs)\n",
    "guide_point_proj=guide_gdf_proj.iloc[0].geometry"
   ]
  },
  {
   "cell_type": "markdown",
   "id": "981b031f-de12-45f0-9d68-d055586d79c8",
   "metadata": {},
   "source": [
    "### Reset the zero to the gude point and convert measurements to meters"
   ]
  },
  {
   "cell_type": "code",
   "execution_count": 17,
   "id": "5ed06ac6-02bf-4a12-94b9-1e6f36dd5e78",
   "metadata": {},
   "outputs": [],
   "source": [
    "nodes['x_ref']=(nodes['x']-guide_point_xy['x'])*0.3048\n",
    "nodes['y_ref']=(nodes['y']-guide_point_xy['y'])*0.3048"
   ]
  },
  {
   "cell_type": "code",
   "execution_count": 18,
   "id": "9314f9ed-55ce-409b-a1d6-bfce7324403f",
   "metadata": {},
   "outputs": [],
   "source": [
    "nodes['x_proj']=nodes['x_ref']+guide_point_proj.x\n",
    "nodes['y_proj']=nodes['y_ref']+guide_point_proj.y"
   ]
  },
  {
   "cell_type": "code",
   "execution_count": 19,
   "id": "9a002f7e-ae1a-44c7-af6a-f45cee3271c3",
   "metadata": {},
   "outputs": [],
   "source": [
    "nodes_proj_gdf=gpd.GeoDataFrame(data=nodes, geometry=gpd.points_from_xy(\n",
    "    x=nodes['x_proj'], y=nodes['y_proj']), crs=crs)"
   ]
  },
  {
   "cell_type": "code",
   "execution_count": 20,
   "id": "fc0ba5ab-1e4b-48e3-9b53-ee2d3820231f",
   "metadata": {},
   "outputs": [],
   "source": [
    "nodes_wgs_gdf=nodes_proj_gdf.to_crs('EPSG:4326')"
   ]
  },
  {
   "cell_type": "code",
   "execution_count": 32,
   "id": "cec805d5-92a0-445b-bf2e-7baa00b33c04",
   "metadata": {},
   "outputs": [
    {
     "name": "stderr",
     "output_type": "stream",
     "text": [
      "C:\\Users\\adminlocal\\AppData\\Local\\Temp\\ipykernel_4684\\3753745346.py:1: UserWarning: Geometry is in a geographic CRS. Results from 'centroid' are likely incorrect. Use 'GeoSeries.to_crs()' to re-project geometries to a projected CRS before this operation.\n",
      "\n",
      "  centroid=nodes_wgs_gdf.centroid\n"
     ]
    }
   ],
   "source": [
    "centroid=nodes_wgs_gdf.centroid\n",
    "nodes_wgs_gdf['lon']=[c.x for c in centroid]\n",
    "nodes_wgs_gdf['lat']=[c.y for c in centroid]"
   ]
  },
  {
   "cell_type": "code",
   "execution_count": 33,
   "id": "d41e6cb2-326a-44f6-b1a1-37261695367b",
   "metadata": {},
   "outputs": [],
   "source": [
    "nodes_wgs_gdf[['lon', 'lat', 'z', 'type_of_entity', 'EntityHandle']].to_csv('nodes_wgs84.csv')"
   ]
  },
  {
   "cell_type": "markdown",
   "id": "619324ee",
   "metadata": {},
   "source": [
    "## DO THE SAME WITH THE VOXEL POINTS"
   ]
  },
  {
   "cell_type": "code",
   "execution_count": 10,
   "id": "478dbc65",
   "metadata": {},
   "outputs": [],
   "source": [
    "points_w_landUses_df = pd.read_csv('points_w_landuse.csv',header=0,names=['x','y','z','type'])"
   ]
  },
  {
   "cell_type": "code",
   "execution_count": 13,
   "id": "e58bf5c0",
   "metadata": {},
   "outputs": [],
   "source": [
    "points_w_landUses_df['x_ref']=(points_w_landUses_df['x']-guide_point_xy['x'])*0.3048\n",
    "points_w_landUses_df['y_ref']=(points_w_landUses_df['y']-guide_point_xy['y'])*0.3048"
   ]
  },
  {
   "cell_type": "code",
   "execution_count": 14,
   "id": "ea7943ee",
   "metadata": {},
   "outputs": [],
   "source": [
    "points_w_landUses_df['x_proj']=points_w_landUses_df['x_ref']+guide_point_proj.x\n",
    "points_w_landUses_df['y_proj']=points_w_landUses_df['y_ref']+guide_point_proj.y"
   ]
  },
  {
   "cell_type": "code",
   "execution_count": 15,
   "id": "bda14686",
   "metadata": {},
   "outputs": [],
   "source": [
    "points_w_landUses_proj_gdf=gpd.GeoDataFrame(data=points_w_landUses_df, geometry=gpd.points_from_xy(\n",
    "    x=points_w_landUses_df['x_proj'], y=points_w_landUses_df['y_proj']), crs=crs)"
   ]
  },
  {
   "cell_type": "code",
   "execution_count": 16,
   "id": "6648ee30",
   "metadata": {},
   "outputs": [],
   "source": [
    "points_w_landUses_wgs_gdf=points_w_landUses_proj_gdf.to_crs('EPSG:4326')"
   ]
  },
  {
   "cell_type": "code",
   "execution_count": 17,
   "id": "4d234a0e",
   "metadata": {},
   "outputs": [
    {
     "name": "stderr",
     "output_type": "stream",
     "text": [
      "C:\\Users\\adminlocal\\AppData\\Local\\Temp\\ipykernel_9984\\1093101363.py:1: UserWarning: Geometry is in a geographic CRS. Results from 'centroid' are likely incorrect. Use 'GeoSeries.to_crs()' to re-project geometries to a projected CRS before this operation.\n",
      "\n",
      "  centroid=points_w_landUses_wgs_gdf.centroid\n"
     ]
    }
   ],
   "source": [
    "centroid=points_w_landUses_wgs_gdf.centroid\n",
    "points_w_landUses_wgs_gdf['lon']=[c.x for c in centroid]\n",
    "points_w_landUses_wgs_gdf['lat']=[c.y for c in centroid]"
   ]
  },
  {
   "cell_type": "code",
   "execution_count": 18,
   "id": "5ad8a0b0",
   "metadata": {},
   "outputs": [
    {
     "data": {
      "text/html": [
       "<div>\n",
       "<style scoped>\n",
       "    .dataframe tbody tr th:only-of-type {\n",
       "        vertical-align: middle;\n",
       "    }\n",
       "\n",
       "    .dataframe tbody tr th {\n",
       "        vertical-align: top;\n",
       "    }\n",
       "\n",
       "    .dataframe thead th {\n",
       "        text-align: right;\n",
       "    }\n",
       "</style>\n",
       "<table border=\"1\" class=\"dataframe\">\n",
       "  <thead>\n",
       "    <tr style=\"text-align: right;\">\n",
       "      <th></th>\n",
       "      <th>x</th>\n",
       "      <th>y</th>\n",
       "      <th>z</th>\n",
       "      <th>type</th>\n",
       "      <th>x_ref</th>\n",
       "      <th>y_ref</th>\n",
       "      <th>x_proj</th>\n",
       "      <th>y_proj</th>\n",
       "      <th>geometry</th>\n",
       "      <th>lon</th>\n",
       "      <th>lat</th>\n",
       "    </tr>\n",
       "  </thead>\n",
       "  <tbody>\n",
       "    <tr>\n",
       "      <th>0</th>\n",
       "      <td>767782.292013</td>\n",
       "      <td>2.957917e+06</td>\n",
       "      <td>0.0</td>\n",
       "      <td>OFFICES</td>\n",
       "      <td>16.352557</td>\n",
       "      <td>-4.807006</td>\n",
       "      <td>328139.973409</td>\n",
       "      <td>4.692298e+06</td>\n",
       "      <td>POINT (-71.08706 42.36397)</td>\n",
       "      <td>-71.087055</td>\n",
       "      <td>42.363971</td>\n",
       "    </tr>\n",
       "    <tr>\n",
       "      <th>1</th>\n",
       "      <td>767782.292013</td>\n",
       "      <td>2.957940e+06</td>\n",
       "      <td>0.0</td>\n",
       "      <td>OFFICES</td>\n",
       "      <td>16.352557</td>\n",
       "      <td>2.327427</td>\n",
       "      <td>328139.973409</td>\n",
       "      <td>4.692306e+06</td>\n",
       "      <td>POINT (-71.08706 42.36404)</td>\n",
       "      <td>-71.087057</td>\n",
       "      <td>42.364036</td>\n",
       "    </tr>\n",
       "    <tr>\n",
       "      <th>2</th>\n",
       "      <td>767782.292013</td>\n",
       "      <td>2.957963e+06</td>\n",
       "      <td>0.0</td>\n",
       "      <td>OFFICES</td>\n",
       "      <td>16.352557</td>\n",
       "      <td>9.461861</td>\n",
       "      <td>328139.973409</td>\n",
       "      <td>4.692313e+06</td>\n",
       "      <td>POINT (-71.08706 42.36410)</td>\n",
       "      <td>-71.087059</td>\n",
       "      <td>42.364100</td>\n",
       "    </tr>\n",
       "    <tr>\n",
       "      <th>3</th>\n",
       "      <td>767782.292013</td>\n",
       "      <td>2.957987e+06</td>\n",
       "      <td>0.0</td>\n",
       "      <td>OFFICES</td>\n",
       "      <td>16.352557</td>\n",
       "      <td>16.596295</td>\n",
       "      <td>328139.973409</td>\n",
       "      <td>4.692320e+06</td>\n",
       "      <td>POINT (-71.08706 42.36416)</td>\n",
       "      <td>-71.087061</td>\n",
       "      <td>42.364164</td>\n",
       "    </tr>\n",
       "    <tr>\n",
       "      <th>4</th>\n",
       "      <td>767807.074726</td>\n",
       "      <td>2.957917e+06</td>\n",
       "      <td>0.0</td>\n",
       "      <td>OFFICES</td>\n",
       "      <td>23.906328</td>\n",
       "      <td>-4.807006</td>\n",
       "      <td>328147.527180</td>\n",
       "      <td>4.692298e+06</td>\n",
       "      <td>POINT (-71.08696 42.36397)</td>\n",
       "      <td>-71.086963</td>\n",
       "      <td>42.363973</td>\n",
       "    </tr>\n",
       "    <tr>\n",
       "      <th>...</th>\n",
       "      <td>...</td>\n",
       "      <td>...</td>\n",
       "      <td>...</td>\n",
       "      <td>...</td>\n",
       "      <td>...</td>\n",
       "      <td>...</td>\n",
       "      <td>...</td>\n",
       "      <td>...</td>\n",
       "      <td>...</td>\n",
       "      <td>...</td>\n",
       "      <td>...</td>\n",
       "    </tr>\n",
       "    <tr>\n",
       "      <th>14362</th>\n",
       "      <td>768872.731419</td>\n",
       "      <td>2.958455e+06</td>\n",
       "      <td>663.0</td>\n",
       "      <td>QUAD_OCCUPANCY</td>\n",
       "      <td>348.718488</td>\n",
       "      <td>159.284972</td>\n",
       "      <td>328472.339340</td>\n",
       "      <td>4.692463e+06</td>\n",
       "      <td>POINT (-71.08307 42.36552)</td>\n",
       "      <td>-71.083070</td>\n",
       "      <td>42.365522</td>\n",
       "    </tr>\n",
       "    <tr>\n",
       "      <th>14363</th>\n",
       "      <td>768872.731419</td>\n",
       "      <td>2.958502e+06</td>\n",
       "      <td>663.0</td>\n",
       "      <td>QUAD_OCCUPANCY</td>\n",
       "      <td>348.718488</td>\n",
       "      <td>173.553840</td>\n",
       "      <td>328472.339340</td>\n",
       "      <td>4.692477e+06</td>\n",
       "      <td>POINT (-71.08307 42.36565)</td>\n",
       "      <td>-71.083075</td>\n",
       "      <td>42.365650</td>\n",
       "    </tr>\n",
       "    <tr>\n",
       "      <th>14364</th>\n",
       "      <td>768897.514133</td>\n",
       "      <td>2.958432e+06</td>\n",
       "      <td>663.0</td>\n",
       "      <td>QUAD_OCCUPANCY</td>\n",
       "      <td>356.272259</td>\n",
       "      <td>152.150538</td>\n",
       "      <td>328479.893111</td>\n",
       "      <td>4.692455e+06</td>\n",
       "      <td>POINT (-71.08298 42.36546)</td>\n",
       "      <td>-71.082976</td>\n",
       "      <td>42.365459</td>\n",
       "    </tr>\n",
       "    <tr>\n",
       "      <th>14365</th>\n",
       "      <td>768897.514133</td>\n",
       "      <td>2.958455e+06</td>\n",
       "      <td>663.0</td>\n",
       "      <td>QUAD_OCCUPANCY</td>\n",
       "      <td>356.272259</td>\n",
       "      <td>159.284972</td>\n",
       "      <td>328479.893111</td>\n",
       "      <td>4.692463e+06</td>\n",
       "      <td>POINT (-71.08298 42.36552)</td>\n",
       "      <td>-71.082979</td>\n",
       "      <td>42.365523</td>\n",
       "    </tr>\n",
       "    <tr>\n",
       "      <th>14366</th>\n",
       "      <td>768897.514133</td>\n",
       "      <td>2.958502e+06</td>\n",
       "      <td>663.0</td>\n",
       "      <td>QUAD_OCCUPANCY</td>\n",
       "      <td>356.272259</td>\n",
       "      <td>173.553840</td>\n",
       "      <td>328479.893111</td>\n",
       "      <td>4.692477e+06</td>\n",
       "      <td>POINT (-71.08298 42.36565)</td>\n",
       "      <td>-71.082983</td>\n",
       "      <td>42.365652</td>\n",
       "    </tr>\n",
       "  </tbody>\n",
       "</table>\n",
       "<p>14367 rows × 11 columns</p>\n",
       "</div>"
      ],
      "text/plain": [
       "                   x             y      z            type       x_ref  \\\n",
       "0      767782.292013  2.957917e+06    0.0         OFFICES   16.352557   \n",
       "1      767782.292013  2.957940e+06    0.0         OFFICES   16.352557   \n",
       "2      767782.292013  2.957963e+06    0.0         OFFICES   16.352557   \n",
       "3      767782.292013  2.957987e+06    0.0         OFFICES   16.352557   \n",
       "4      767807.074726  2.957917e+06    0.0         OFFICES   23.906328   \n",
       "...              ...           ...    ...             ...         ...   \n",
       "14362  768872.731419  2.958455e+06  663.0  QUAD_OCCUPANCY  348.718488   \n",
       "14363  768872.731419  2.958502e+06  663.0  QUAD_OCCUPANCY  348.718488   \n",
       "14364  768897.514133  2.958432e+06  663.0  QUAD_OCCUPANCY  356.272259   \n",
       "14365  768897.514133  2.958455e+06  663.0  QUAD_OCCUPANCY  356.272259   \n",
       "14366  768897.514133  2.958502e+06  663.0  QUAD_OCCUPANCY  356.272259   \n",
       "\n",
       "            y_ref         x_proj        y_proj                    geometry  \\\n",
       "0       -4.807006  328139.973409  4.692298e+06  POINT (-71.08706 42.36397)   \n",
       "1        2.327427  328139.973409  4.692306e+06  POINT (-71.08706 42.36404)   \n",
       "2        9.461861  328139.973409  4.692313e+06  POINT (-71.08706 42.36410)   \n",
       "3       16.596295  328139.973409  4.692320e+06  POINT (-71.08706 42.36416)   \n",
       "4       -4.807006  328147.527180  4.692298e+06  POINT (-71.08696 42.36397)   \n",
       "...           ...            ...           ...                         ...   \n",
       "14362  159.284972  328472.339340  4.692463e+06  POINT (-71.08307 42.36552)   \n",
       "14363  173.553840  328472.339340  4.692477e+06  POINT (-71.08307 42.36565)   \n",
       "14364  152.150538  328479.893111  4.692455e+06  POINT (-71.08298 42.36546)   \n",
       "14365  159.284972  328479.893111  4.692463e+06  POINT (-71.08298 42.36552)   \n",
       "14366  173.553840  328479.893111  4.692477e+06  POINT (-71.08298 42.36565)   \n",
       "\n",
       "             lon        lat  \n",
       "0     -71.087055  42.363971  \n",
       "1     -71.087057  42.364036  \n",
       "2     -71.087059  42.364100  \n",
       "3     -71.087061  42.364164  \n",
       "4     -71.086963  42.363973  \n",
       "...          ...        ...  \n",
       "14362 -71.083070  42.365522  \n",
       "14363 -71.083075  42.365650  \n",
       "14364 -71.082976  42.365459  \n",
       "14365 -71.082979  42.365523  \n",
       "14366 -71.082983  42.365652  \n",
       "\n",
       "[14367 rows x 11 columns]"
      ]
     },
     "execution_count": 18,
     "metadata": {},
     "output_type": "execute_result"
    }
   ],
   "source": [
    "points_w_landUses_wgs_gdf"
   ]
  },
  {
   "cell_type": "code",
   "execution_count": 20,
   "id": "347de1a6",
   "metadata": {},
   "outputs": [],
   "source": [
    "points_w_landUses_wgs_gdf[['lon', 'lat', 'z','type']].to_csv('points_w_landUses_wgs84.csv')"
   ]
  }
 ],
 "metadata": {
  "interpreter": {
   "hash": "be53287269a5ba39de09c86689ae7b2e6bb81aa053a258a15039bccbb53c8d69"
  },
  "kernelspec": {
   "display_name": "Python 3.9.12 ('verticalCity')",
   "language": "python",
   "name": "python3"
  },
  "language_info": {
   "codemirror_mode": {
    "name": "ipython",
    "version": 3
   },
   "file_extension": ".py",
   "mimetype": "text/x-python",
   "name": "python",
   "nbconvert_exporter": "python",
   "pygments_lexer": "ipython3",
   "version": "3.9.12"
  }
 },
 "nbformat": 4,
 "nbformat_minor": 5
}
